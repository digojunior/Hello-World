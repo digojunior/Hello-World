{
 "cells": [
  {
   "cell_type": "markdown",
   "metadata": {},
   "source": [
    "Pré-requisitos para o nanodegree - Python para Datascience\n",
    "\n",
    "Abaixo uma visão geral com links para estudos e na sequência do notebook, maiores explicações com um exemplo em python para cada tópico.\n",
    "\n",
    "\n",
    "- Conhecimento de programação intermediário, equivalente ao aprendido no Nanodegree Fundamentos de Data Science I ou outros cursos de programação introdutórios, ou experiência adicional de desenvolvimento de software do mundo real. Incluindo:\n",
    "\n",
    "1- Strings, números e variáveis\n",
    "https://www.tutorialspoint.com/python/python_strings.htm\n",
    "https://www.tutorialspoint.com/python/python_numbers.htm\n",
    "https://www.tutorialspoint.com/python/python_variable_types.htm\n",
    "\n",
    "2- Declarações, operadores e expressões\n",
    "https://www.tutorialspoint.com/python/python_basic_operators.htm\n",
    "\n",
    "3- Listas, tuplas e dicionários\n",
    "https://www.tutorialspoint.com/python/python_lists.htm\n",
    "https://www.tutorialspoint.com/python/python_tuples.htm\n",
    "https://www.tutorialspoint.com/python/python_dictionary.htm\n",
    "\n",
    "4- Condições, loops\n",
    "https://www.tutorialspoint.com/python/python_decision_making.htm\n",
    "https://www.tutorialspoint.com/python/python_loops.htm\n",
    "\n",
    "5- Procedimentos, objetos, módulos e bibliotecas\n",
    "https://www.tutorialspoint.com/python/python_modules.htm\n",
    "\n",
    "6- Pesquisa e documentação\n",
    "https://www.tutorialspoint.com/python\n",
    "https://www.python.org/doc/\n",
    "\n",
    "7- Solução de problemas e debugging\n",
    "https://docs.python.org/2/library/pdb.html\n",
    "\n",
    "8- Algoritmos e estrutura de dados\n",
    "http://cleibsonalmeida.blog.br/website/downloads/relatorio_tc720.pdf\n",
    "\n",
    "9- Conexão a banco de dados:\n",
    "http://pythonclub.com.br/gerenciando-banco-dados-sqlite3-python-parte1.html\n",
    "\n",
    "- Conhecimento estatístico básico, equivalente ao aprendido no Nanodegree Fundamentos de Data Science II. Incluindo:\n",
    "\n",
    "1- Populações, amostras\n",
    "http://brasilescola.uol.com.br/matematica/populacao-amostras.htm\n",
    "\n",
    "2- Média, mediana, moda\n",
    "http://brasilescola.uol.com.br/matematica/moda-media-mediana.htm\n",
    "\n",
    "3- Variância, desvio padrão, Erro padrão\n",
    "http://www.abgconsultoria.com.br/blog/desvio-padrao-e-erro-padrao/\n",
    "\n",
    "\n",
    "4- Distribuição normal\n",
    "https://www.inf.ufsc.br/~andre.zibetti/probabilidade/normal.html\n",
    "\n",
    "\n",
    "5- Precisão e acurácia\n",
    "http://fisbio.biof.ufrj.br/restrito/bioEstatistica/02_conc_basicos/acuracia_e_precisao.htm\n",
    "\n",
    "\n"
   ]
  },
  {
   "cell_type": "code",
   "execution_count": null,
   "metadata": {
    "collapsed": true
   },
   "outputs": [],
   "source": [
    "#Ler e criar arquivos:\n",
    "\n",
    "'''Onde estou: pwd\n",
    "    \n",
    "Criar arquivos no jupyter:\n",
    "%%writefile teste.txt\n",
    "é usado para crair um\n",
    " arquivo no jupyter\n",
    "\n",
    "IO files:  Ler 'r', criar 'w' e adicionar novos dados (append) 'a' \n",
    "Para abrir um arquivo no python: f = open('C:\\\\Users\\\\Rodri\\\\Desktop\\\\teste.txt', 'r')\n",
    "Para ler as linhas do arquivo no python: f.readlines()\n",
    "Para ler o arquivo inteiro: f.read()\n",
    "Para ler o arquivo do inicio de novo: f.seek(0)\n",
    "Para fechar o arquivo no python f.close()\n",
    "\n",
    "Impressao e leitura de floats exemplo de código:\n",
    "\n",
    "num = float(input(\"Digite um numero: \"))\n",
    "print(\"O numero digitado foi %.3f\" %num)'''"
   ]
  },
  {
   "cell_type": "code",
   "execution_count": 2,
   "metadata": {},
   "outputs": [
    {
     "name": "stdout",
     "output_type": "stream",
     "text": [
      "('Rodrigo', 'M', 'rodrigo_junior@hotmail.com', 405356468, '11972378983', 'Rua Ezio padilha, 272')\n"
     ]
    }
   ],
   "source": [
    "#9 - Como conectar ao banco de dados mysql\n",
    "\n",
    "# importação de biblioteca de conexão\n",
    "import mysql.connector\n",
    "\n",
    "#criando conexão\n",
    "cnx = mysql.connector.connect(user='root',host='localhost',password = '123456',\n",
    "                              database='cadastro')\n",
    "#cursor de conexão\n",
    "cursor = cnx.cursor()\n",
    "\n",
    "#consulta sql\n",
    "sql = \"select * FROM cliente\"\n",
    "\n",
    "#execução da consulta\n",
    "teste = cursor.execute(sql)\n",
    "\n",
    "# output da consulta\n",
    "for linha in cursor.fetchall():\n",
    "    print(linha)\n",
    "\n",
    "#fechando conexão\n",
    "cnx.close()"
   ]
  },
  {
   "cell_type": "code",
   "execution_count": 10,
   "metadata": {},
   "outputs": [
    {
     "name": "stdout",
     "output_type": "stream",
     "text": [
      "[12, 1, 13, 8, 6]\n"
     ]
    }
   ],
   "source": [
    "# população e amostra(population and sample) -- Explicação/exemplo em python\n",
    "\n",
    "'''População finita: nesses casos o número de elementos de um grupo não é muito grande, a entrevista e a análise das\n",
    "informações devem abordar a todos do grupo. Por exemplo: \n",
    "\n",
    " As condições das escolas particulares na cidade de Goiânia.\n",
    "Se observarmos o grupo chegaremos à conclusão de que o número de escolas particulares em Goiânia é considerado finito.\n",
    "\n",
    "População infinita: o número de elementos nesse caso é muito elevado, sendo considerado infinito. Por exemplo: \n",
    " A população da cidade de São Paulo. \n",
    "\n",
    "Amostra diz respeito a um subconjunto da população, fração ou uma parte do grupo. Em alguns casos seria impossível\n",
    "entrevistar todos os elementos de uma população, pois levaria muito tempo para concluir o trabalho ou até mesmo \n",
    "seria financeiramente inviável, dessa forma, o número de entrevistados corresponde a uma quantidade determinada de \n",
    "elementos do conjunto, uma amostra. '''\n",
    "\n",
    "'''Como exemplo em python podemos definir de forma aleatoria em uma lista o grupo da população que vamos analisar,\n",
    "conforme exemplo abaixo com  o método random'''\n",
    "\n",
    "import random\n",
    "populacao = list(range(0, 15))\n",
    "amostra = random.sample(populacao, 5)\n",
    "\n",
    "print(amostra)\n",
    "\n",
    "\n"
   ]
  },
  {
   "cell_type": "code",
   "execution_count": 30,
   "metadata": {},
   "outputs": [
    {
     "name": "stdout",
     "output_type": "stream",
     "text": [
      "[65, 44, 33, 32, 32, 32, 31, 24, 21]\n",
      "A moda dessa lista é: 32\n",
      "A mediana dessa lista é: 32\n",
      "A media dessa lista é: 34.888888888888886\n"
     ]
    }
   ],
   "source": [
    "#Média, mediana, moda(mean,median and mode) - Explicação/exemplo em python\n",
    "'''Moda, média e mediana são números que resumem as informações de uma lista de dados a apenas uma informação.\n",
    "Moda:\n",
    "É chamado de MODA o dado mais frequente de um conjunto.\n",
    "\n",
    "Mediana\n",
    "Se o conjunto de informações for numérico e estiver organizado em ordem crescente ou decrescente,\n",
    "a sua MEDIANA será o número que ocupa a posição central da lista. Considere que a escola de música já citada possui\n",
    "nove professores e que suas idades são:\n",
    "32 anos, 33 anos, 24 anos, 31 anos, 44 anos, 65 anos, 32 anos, 21 anos e 32 anos\n",
    "Para encontrar a mediana das idades dos professores, devemos organizar a lista de idades em ordem crescente:\n",
    "21, 24, 31, 32, 32, 32, 33, 44 e 65\n",
    "Observe que o número 32 é o quinto. À sua direita, existem outras 4 idades, assim como à esquerda.\n",
    "Logo, 32 é a mediana da lista das idades dos professores.\n",
    "21, 24, 31, 32, 32, 32, 33, 44, 65\n",
    "\n",
    "Média:\n",
    "A MÉDIA é a medida de centralidade mais usada por ser a que mescla de maneira mais uniforme os valores mais baixos\n",
    "e os mais altos de uma lista. No conjunto anterior, por exemplo, a mediana é igual a 44,5, mesmo com tantas idades próximas de 20 anos. Observe a média aritmética simples desse mesmo conjunto:\n",
    "\n",
    "M = 18 + 19 + 19 + 22 + 44 + 45 + 46 + 46 + 47 + 48\n",
    "10\n",
    "\n",
    "M = 35,4 anos'''\n",
    "\n",
    "import statistics\n",
    "lst = [32,33,24,31,44,65,32,21,32]\n",
    "\n",
    "lst.sort(reverse=True)\n",
    "print(lst)\n",
    "print('A moda dessa lista é:', statistics.mode(lst))\n",
    "print('A mediana dessa lista é:', statistics.median(lst))\n",
    "print('A media dessa lista é:', statistics.mean(lst))\n",
    "\n"
   ]
  },
  {
   "cell_type": "code",
   "execution_count": 1,
   "metadata": {},
   "outputs": [
    {
     "name": "stdout",
     "output_type": "stream",
     "text": [
      "Variancia =  2.66666666667 Desvio padrão =  1.63299316186 Erro padrão =  [ 1.62018517  1.36930639  1.06066017]\n"
     ]
    }
   ],
   "source": [
    "#Variância, desvio padrão, Erro padrão(Variance, standard deviation and standard error)\n",
    "'''\n",
    "Variância e desvio Padrão:\n",
    "O desvio padrão é uma medida que indica a dispersão dos dados dentro de uma amostra com relação à média.\n",
    "Assim, quando se calcula o desvio padrão juntamente com a média de diferentes grupos,\n",
    "obtém-se mais informações para avaliar e diferenciar seus comportamentos.\n",
    "\n",
    "Para calcular o desvio padrão, você precisa primeiro calcular a variância em relação à média, \n",
    "outra importante medida de dispersão com muitas aplicações na estatística e na teoria da probabilidade.\n",
    "\n",
    "Para calculá-la é preciso subtrair cada uma das medidas individuais pela média (passo 1)\n",
    "e elevar os resultados obtidos ao quadrado (passo 2). Em seguida você deverá somar todos resultados (passo 3) \n",
    "e dividir pelo tamanho da amostra menos um (passo 4).\n",
    "\n",
    "Pronto, já temos a variância! Para se chegar ao desvio padrão basta calcular a raiz quadrada desse resultado (passo 5).\n",
    "\n",
    "O erro padrão é uma medida de variação de uma média amostral em relação à média da população. Sendo assim, é uma medida \n",
    "que ajuda a verificar a confiabilidade da média amostral calculada.'''\n",
    "\n",
    "\n",
    "import numpy as np\n",
    "valores = [7, 5, 3]\n",
    "\n",
    "#variancia Para calculá-la é preciso subtrair cada uma das medidas individuais pela média (passo 1)\n",
    "#e elevar os resultados obtidos ao quadrado (passo 2). \n",
    "#Em seguida você deverá somar todos resultados (passo 3) e dividir pelo tamanho da amostra menos um (passo 4).\n",
    "v = np.var(valores)\n",
    "\n",
    "# desvio padrão é a raiz quadrada da variância\n",
    "d = np.sqrt(v)\n",
    "\n",
    "#erropadrão é a raiz quadrada dos valores divido pelo desvio padrão\n",
    "ep = np.sqrt(valores)/ d\n",
    "\n",
    "print(\"Variancia = \", v, \"Desvio padrão = \", d, \"Erro padrão = \", ep)\n"
   ]
  },
  {
   "cell_type": "code",
   "execution_count": 10,
   "metadata": {},
   "outputs": [
    {
     "data": {
      "text/plain": [
       "0"
      ]
     },
     "execution_count": 10,
     "metadata": {},
     "output_type": "execute_result"
    }
   ],
   "source": [
    "#Distribuição normal(gaussiana)  Gaussian PDF(Probability Density Functions)\n",
    "'''De certa forma todo e qualquer processo de mensuração está sujeito a um erro de medida. Esse erro pode ter\n",
    "diferentes fontes, desde a variação de tempertura, tempo, entre inúmeras outras características não identificáveis.\n",
    "Essa função densidade de probabilidade é curva conhecida como distribuição normal ou gaussina.\n",
    "\n",
    "A grande utilidade dessa distribuição está associada ao fato de que aproxima de forma bastante satisfatória as \n",
    "curvas de frequências de medidas físicas.\n",
    "The probability density of the normal distribution is\n",
    "\n",
    "{\\displaystyle f(x\\mid \\mu ,\\sigma ^{2})={\\frac {1}{\\sqrt {2\\pi \\sigma ^{2}}}}e^{-{\\frac {(x-\\mu )^{2}}{2\\sigma\n",
    "^{2}}}}} {\\displaystyle f(x\\mid \\mu ,\\sigma ^{2})={\\frac {1}{\\sqrt {2\\pi \\sigma ^{2}}}}e^{-{\\frac {(x-\\mu )^{2}}\n",
    "{2\\sigma ^{2}}}}}\n",
    "where\n",
    "\n",
    "\\mu is the mean or expectation of the distribution (and also its median and mode),\n",
    "\\sigma  is the standard deviation, and\n",
    "\\sigma ^{2} is the variance.\n",
    "'''\n",
    "import scipy\n",
    "\n",
    "scipy.absolute(0)"
   ]
  },
  {
   "cell_type": "code",
   "execution_count": null,
   "metadata": {
    "collapsed": true
   },
   "outputs": [],
   "source": [
    "#Precisão e acurácia\n",
    "'''Medidas acuradas ou exatas são aquelas cujo valor médio se aproxima do valor correto. \n",
    "Determining the accuracy of a measurement usually requires calibration of the analytical method\n",
    "with a known standard.\n",
    "Medidas precisas são aquelas que apresentam uma pequena dispersão. Precision is the reproducibility of multiple\n",
    "measurements and is usually described by the standard deviation, standard error, or confidence interval.\n",
    "\n",
    "De forma geral, a acurácia ou exatidão depende da calibração e ajuste do equipamento, para evitar os erros sistemáticos,\n",
    "e a precisão depende do nível de interferência e de ruído que afetam a medida. '''\n",
    "\n",
    "\n"
   ]
  }
 ],
 "metadata": {
  "kernelspec": {
   "display_name": "Python 3",
   "language": "python",
   "name": "python3"
  },
  "language_info": {
   "codemirror_mode": {
    "name": "ipython",
    "version": 3
   },
   "file_extension": ".py",
   "mimetype": "text/x-python",
   "name": "python",
   "nbconvert_exporter": "python",
   "pygments_lexer": "ipython3",
   "version": "3.6.3"
  }
 },
 "nbformat": 4,
 "nbformat_minor": 2
}
