{
 "cells": [
  {
   "cell_type": "markdown",
   "metadata": {},
   "source": [
    "Pré - Requisitos Nanodegree Data Science for business:\n",
    "1.\tConhecimento de programação intermediário, equivalente ao aprendido no Nanodegree Fundamentos de Data Science I ou outros cursos de programação introdutórios, ou experiência adicional de desenvolvimento de software do mundo real. Incluindo:\n",
    "•\tStrings, números e variáveis\n",
    "https://www.tutorialspoint.com/python/python_strings.htm\n",
    "https://www.tutorialspoint.com/python/python_numbers.htm\n",
    "https://www.tutorialspoint.com/python/python_variable_types.htm\n",
    "•\tDeclarações, operadores e expressões\n",
    "https://www.tutorialspoint.com/python/python_basic_operators.htm\n",
    "•\tListas, tuplas e dicionários\n",
    "https://www.tutorialspoint.com/python/python_lists.htm\n",
    "https://www.tutorialspoint.com/python/python_tuples.htm\n",
    "https://www.tutorialspoint.com/python/python_dictionary.htm\n",
    "•\tCondições, loops\n",
    "https://www.tutorialspoint.com/python/python_decision_making.htm\n",
    "https://www.tutorialspoint.com/python/python_loops.htm\n",
    "•\tProcedimentos, objetos, módulos e bibliotecas\n",
    "https://www.tutorialspoint.com/python/python_modules.htm\n",
    "•\tPesquisa e documentação\n",
    "https://www.tutorialspoint.com/python\n",
    "https://www.python.org/doc/\n",
    "conexão a banco de dados postgre em “projetos aleatórios”\n",
    "•\tSolução de problemas e debugging\n",
    "https://docs.python.org/2/library/pdb.html\n",
    "•\tAlgoritmos e estrutura de dados\n",
    "http://cleibsonalmeida.blog.br/website/downloads/relatorio_tc720.pdf\n",
    "\n",
    "\n",
    "2. Conhecimento estatístico básico\n",
    "•\tPopulações, amostras(population and sample)\n",
    "http://brasilescola.uol.com.br/matematica/populacao-amostras.htm\n",
    "•\tMédia, mediana, moda(media,mean average\n",
    "http://brasilescola.uol.com.br/matematica/moda-media-mediana.htm\n",
    "•\tDesvio padrão, Erro padrão e Variância(Faz parte das medidas de desvio padrão)\n",
    "http://www.abgconsultoria.com.br/blog/desvio-padrao-e-erro-padrao/\n",
    "•\tDistribuição normal (gaussiana) – Procurar mais recursos\n",
    "https://www.inf.ufsc.br/~andre.zibetti/probabilidade/normal.html\n",
    "•\tPrecisão e acurácia\n",
    "http://fisbio.biof.ufrj.br/restrito/bioEstatistica/02_conc_basicos/acuracia_e_precisao.htm\n",
    "\n",
    "#!/usr/bin/env python\n",
    "#-*- encoding: utf-8 -*-\n",
    "import numpy as np\n",
    "valores = [7, 5, 3\n",
    "#variancia\n",
    "v = np.var(valores)\n",
    "#desvio padrão\n",
    "d = np.sqrt(v)\n",
    "#media\n",
    "m = np.mean(valores)\n",
    "#erropadrão\n",
    "Raiz quadrada da variavel “valores”  dividido pelo desvio padrão.\n"
   ]
  }
 ],
 "metadata": {
  "kernelspec": {
   "display_name": "Python 3",
   "language": "python",
   "name": "python3"
  },
  "language_info": {
   "codemirror_mode": {
    "name": "ipython",
    "version": 3
   },
   "file_extension": ".py",
   "mimetype": "text/x-python",
   "name": "python",
   "nbconvert_exporter": "python",
   "pygments_lexer": "ipython3",
   "version": "3.6.3"
  }
 },
 "nbformat": 4,
 "nbformat_minor": 2
}
