{
 "cells": [
  {
   "cell_type": "markdown",
   "metadata": {},
   "source": [
    "Crie um aplicativo console que simule o funcionamento básico de um caixa eletrônico.\n",
    "O aplicativo deverá:\n",
    "\t• Solicitar do usuário sua agência, conta, e senha para que o mesmo possa utilizar o aplicativo;\n",
    "\t• Solicitar do usuário qual operação o mesmo quer realizar:\n",
    "\t\t○ Consultar o seu saldo\n",
    "\t\t○ Emitir um extrato (histórico das transações, em tela)\n",
    "\t\t○ Depositar um valor na própria conta\n",
    "\t\t○ Depositar um valor em outra conta\n",
    "\t\t○ Sacar um determinado valor (No máximo 1000 reais por operação, desde que não ultrapasse o seu saldo. Apenas cédulas de 20, 50 e 100 reais estarão disponíveis)\n",
    "\t\t○ Tranferir um valor de sua conta para outra conta (Desde que não ultrapasse o seu saldo)\n",
    "Observações:\n",
    "\t• Persistir os dados em um banco sqlite\n",
    "\t• Durante o saque, quando o usuário informar o valor a ser sacado, informe-o as opções de cédulas disponíveis para que ele escolha o que melhor atende a sua necessidade. Exemplo, se o usuário sacar 120 reais o sistemas deverá dar a ele as seguintes opções:\n",
    "\t\t1. 1 cédula de 100 e 1 cédula de 20;\n",
    "\t\t2. 2 cédulas de 50 e 1 cédula de 20;\n",
    "\t\t3. 6 cédulas de 20\n",
    "\t• Não existe prazo limite para conclusão, a ideia é que você tenha uma experiência diferente.\n",
    "\t• Você poderá tirar suas dúvidas no Slack do Desafio\n",
    "\t• Ao finalizar o seu projeto, publique-o no Github e envie o link para bugginhodeveloper@gmail.com\n"
   ]
  }
 ],
 "metadata": {
  "kernelspec": {
   "display_name": "Python 3",
   "language": "python",
   "name": "python3"
  },
  "language_info": {
   "codemirror_mode": {
    "name": "ipython",
    "version": 3
   },
   "file_extension": ".py",
   "mimetype": "text/x-python",
   "name": "python",
   "nbconvert_exporter": "python",
   "pygments_lexer": "ipython3",
   "version": "3.6.3"
  }
 },
 "nbformat": 4,
 "nbformat_minor": 2
}
