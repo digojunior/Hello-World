{
 "cells": [
  {
   "cell_type": "markdown",
   "metadata": {},
   "source": [
    "Crie um aplicativo console que simule o funcionamento básico de um caixa eletrônico.\n",
    "O aplicativo deverá:\n",
    "\t• Solicitar do usuário sua agência, conta, e senha para que o mesmo possa utilizar o aplicativo;\n",
    "\t• Solicitar do usuário qual operação o mesmo quer realizar:\n",
    "\t\t○ Consultar o seu saldo\n",
    "\t\t○ Emitir um extrato (histórico das transações, em tela)\n",
    "\t\t○ Depositar um valor na própria conta\n",
    "\t\t○ Depositar um valor em outra conta\n",
    "\t\t○ Sacar um determinado valor (No máximo 1000 reais por operação, desde que não ultrapasse o seu saldo. Apenas cédulas de 20, 50 e 100 reais estarão disponíveis)\n",
    "\t\t○ Tranferir um valor de sua conta para outra conta (Desde que não ultrapasse o seu saldo)\n",
    "Observações:\n",
    "\t• Persistir os dados em um banco sqlite\n",
    "\t• Durante o saque, quando o usuário informar o valor a ser sacado, informe-o as opções de cédulas disponíveis para que ele escolha o que melhor atende a sua necessidade. Exemplo, se o usuário sacar 120 reais o sistemas deverá dar a ele as seguintes opções:\n",
    "\t\t1. 1 cédula de 100 e 1 cédula de 20;\n",
    "\t\t2. 2 cédulas de 50 e 1 cédula de 20;\n",
    "\t\t3. 6 cédulas de 20\n",
    "\t• Não existe prazo limite para conclusão, a ideia é que você tenha uma experiência diferente.\n",
    "\t• Você poderá tirar suas dúvidas no Slack do Desafio\n",
    "\t• Ao finalizar o seu projeto, publique-o no Github e envie o link para bugginhodeveloper@gmail.com\n"
   ]
  },
  {
   "cell_type": "code",
   "execution_count": 1,
   "metadata": {},
   "outputs": [],
   "source": [
    "import psycopg2\n",
    "import sys"
   ]
  },
  {
   "cell_type": "markdown",
   "metadata": {},
   "source": [
    "#Criar conexão\n",
    "conn = psycopg2.connect(\"dbname=curso_q4l user=postgres\")\n",
    "\n",
    "#Cursor para maniular o banco\n",
    "cur = conn.cursor()\n",
    "\n",
    "#Criando tabela com o cursor\n",
    "cur.execute(\"CREATE TABLE person (id serial PRIMARY KEY, name text, age integer);\")\n",
    "\n",
    "#inserindo dados com o cursor\n",
    "cur.execute(\"INSERT INTO person (name, age) VALUES (%s, %s)\",(\"O'Relly\", 60))\n",
    "\n",
    "#select dados com cursor\n",
    "cur.execute(\"SELECT * FROM person;\")\n",
    "cur.fetchall()\n",
    "\n",
    "#fechando cursor\n",
    "cur.close()\n",
    "conn.close()"
   ]
  },
  {
   "cell_type": "code",
   "execution_count": 8,
   "metadata": {},
   "outputs": [
    {
     "ename": "SyntaxError",
     "evalue": "invalid syntax (<ipython-input-8-eae395df8326>, line 17)",
     "output_type": "error",
     "traceback": [
      "\u001b[1;36m  File \u001b[1;32m\"<ipython-input-8-eae395df8326>\"\u001b[1;36m, line \u001b[1;32m17\u001b[0m\n\u001b[1;33m    except psycopg2.DatabaseError():\u001b[0m\n\u001b[1;37m         ^\u001b[0m\n\u001b[1;31mSyntaxError\u001b[0m\u001b[1;31m:\u001b[0m invalid syntax\n"
     ]
    }
   ],
   "source": [
    "import psycopg2\n",
    "import sys\n",
    " \n",
    " \n",
    "con = None\n",
    " \n",
    "con = psycopg2.connect(\"host='localhost' dbname='curso_q4l' user='postgres' password='123456'\")   \n",
    "cur = con.cursor()\n",
    "\n",
    "'''cur.execute(\"CREATE TABLE Products(Id INTEGER PRIMARY KEY, Name VARCHAR(20), Price INT)\")\n",
    "cur.execute(\"INSERT INTO Products VALUES(1,'Milk',5)\")\n",
    "cur.execute(\"INSERT INTO Products VALUES(2,'Sugar',7)\")\n",
    "cur.execute(\"INSERT INTO Products VALUES(3,'Coffee',3)\")\n",
    "cur.execute(\"INSERT INTO Products VALUES(4,'Bread',5)\")\n",
    "cur.execute(\"INSERT INTO Products VALUES(5,'Oranges',3)\")'''\n",
    "con.commit()\n",
    "\n",
    "'''except psycopg2.DatabaseError():\n",
    "    if con:\n",
    "        con.rollback()\n",
    "        print ('Error',e)    \n",
    "        sys.exit(1)\n",
    " \n",
    "finally:   \n",
    "    if con:\n",
    "        con.close()'''\n",
    "\n"
   ]
  },
  {
   "cell_type": "code",
   "execution_count": 14,
   "metadata": {},
   "outputs": [
    {
     "name": "stdout",
     "output_type": "stream",
     "text": [
      "Connecting to database\n",
      " host='localhost' dbname='curso_q4l' user='postgres' password='123456'\n"
     ]
    },
    {
     "ename": "OperationalError",
     "evalue": "FATAL:  sorry, too many clients already\n",
     "output_type": "error",
     "traceback": [
      "\u001b[1;31m---------------------------------------------------------------------------\u001b[0m",
      "\u001b[1;31mOperationalError\u001b[0m                          Traceback (most recent call last)",
      "\u001b[1;32m<ipython-input-14-58ca95c5b364>\u001b[0m in \u001b[0;36m<module>\u001b[1;34m()\u001b[0m\n\u001b[1;32m----> 1\u001b[1;33m \u001b[0mmain\u001b[0m\u001b[1;33m(\u001b[0m\u001b[1;33m)\u001b[0m\u001b[1;33m\u001b[0m\u001b[0m\n\u001b[0m",
      "\u001b[1;32m<ipython-input-13-84056366e6e3>\u001b[0m in \u001b[0;36mmain\u001b[1;34m()\u001b[0m\n\u001b[0;32m     10\u001b[0m \u001b[1;33m\u001b[0m\u001b[0m\n\u001b[0;32m     11\u001b[0m     \u001b[1;31m# get a connection, if a connect cannot be made an exception will be raised here\u001b[0m\u001b[1;33m\u001b[0m\u001b[1;33m\u001b[0m\u001b[0m\n\u001b[1;32m---> 12\u001b[1;33m     \u001b[0mconn\u001b[0m \u001b[1;33m=\u001b[0m \u001b[0mpsycopg2\u001b[0m\u001b[1;33m.\u001b[0m\u001b[0mconnect\u001b[0m\u001b[1;33m(\u001b[0m\u001b[0mconn_string\u001b[0m\u001b[1;33m)\u001b[0m\u001b[1;33m\u001b[0m\u001b[0m\n\u001b[0m\u001b[0;32m     13\u001b[0m \u001b[1;33m\u001b[0m\u001b[0m\n\u001b[0;32m     14\u001b[0m     \u001b[1;31m# conn.cursor will return a cursor object, you can use this cursor to perform queries\u001b[0m\u001b[1;33m\u001b[0m\u001b[1;33m\u001b[0m\u001b[0m\n",
      "\u001b[1;32m~\\Anaconda3\\lib\\site-packages\\psycopg2\\__init__.py\u001b[0m in \u001b[0;36mconnect\u001b[1;34m(dsn, connection_factory, cursor_factory, **kwargs)\u001b[0m\n\u001b[0;32m    128\u001b[0m \u001b[1;33m\u001b[0m\u001b[0m\n\u001b[0;32m    129\u001b[0m     \u001b[0mdsn\u001b[0m \u001b[1;33m=\u001b[0m \u001b[0m_ext\u001b[0m\u001b[1;33m.\u001b[0m\u001b[0mmake_dsn\u001b[0m\u001b[1;33m(\u001b[0m\u001b[0mdsn\u001b[0m\u001b[1;33m,\u001b[0m \u001b[1;33m**\u001b[0m\u001b[0mkwargs\u001b[0m\u001b[1;33m)\u001b[0m\u001b[1;33m\u001b[0m\u001b[0m\n\u001b[1;32m--> 130\u001b[1;33m     \u001b[0mconn\u001b[0m \u001b[1;33m=\u001b[0m \u001b[0m_connect\u001b[0m\u001b[1;33m(\u001b[0m\u001b[0mdsn\u001b[0m\u001b[1;33m,\u001b[0m \u001b[0mconnection_factory\u001b[0m\u001b[1;33m=\u001b[0m\u001b[0mconnection_factory\u001b[0m\u001b[1;33m,\u001b[0m \u001b[1;33m**\u001b[0m\u001b[0mkwasync\u001b[0m\u001b[1;33m)\u001b[0m\u001b[1;33m\u001b[0m\u001b[0m\n\u001b[0m\u001b[0;32m    131\u001b[0m     \u001b[1;32mif\u001b[0m \u001b[0mcursor_factory\u001b[0m \u001b[1;32mis\u001b[0m \u001b[1;32mnot\u001b[0m \u001b[1;32mNone\u001b[0m\u001b[1;33m:\u001b[0m\u001b[1;33m\u001b[0m\u001b[0m\n\u001b[0;32m    132\u001b[0m         \u001b[0mconn\u001b[0m\u001b[1;33m.\u001b[0m\u001b[0mcursor_factory\u001b[0m \u001b[1;33m=\u001b[0m \u001b[0mcursor_factory\u001b[0m\u001b[1;33m\u001b[0m\u001b[0m\n",
      "\u001b[1;31mOperationalError\u001b[0m: FATAL:  sorry, too many clients already\n"
     ]
    }
   ],
   "source": []
  },
  {
   "cell_type": "code",
   "execution_count": null,
   "metadata": {
    "collapsed": true
   },
   "outputs": [],
   "source": []
  }
 ],
 "metadata": {
  "kernelspec": {
   "display_name": "Python 3",
   "language": "python",
   "name": "python3"
  },
  "language_info": {
   "codemirror_mode": {
    "name": "ipython",
    "version": 3
   },
   "file_extension": ".py",
   "mimetype": "text/x-python",
   "name": "python",
   "nbconvert_exporter": "python",
   "pygments_lexer": "ipython3",
   "version": "3.6.3"
  }
 },
 "nbformat": 4,
 "nbformat_minor": 2
}
