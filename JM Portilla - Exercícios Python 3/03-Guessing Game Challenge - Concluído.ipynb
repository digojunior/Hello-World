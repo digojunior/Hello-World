{
 "cells": [
  {
   "cell_type": "markdown",
   "metadata": {},
   "source": [
    "# Guessing Game Challenge\n",
    "\n",
    "Let's use `while` loops to create a guessing game.\n",
    "\n",
    "The Challenge:\n",
    "\n",
    "Write a program that picks a random integer from 1 to 100, and has players guess the number. The rules are:\n",
    "\n",
    "1. If a player's guess is less than 1 or greater than 100, say \"OUT OF BOUNDS\"\n",
    "2. On a player's first turn, if their guess is\n",
    " * within 10 of the number, return \"WARM!\"\n",
    " * further than 10 away from the number, return \"COLD!\"\n",
    "3. On all subsequent turns, if a guess is \n",
    " * closer to the number than the previous guess return \"WARMER!\"\n",
    " * farther from the number than the previous guess, return \"COLDER!\"\n",
    "4. When the player's guess equals the number, tell them they've guessed correctly *and* how many guesses it took!\n",
    "\n",
    "You can try this from scratch, or follow the steps outlined below. A separate Solution notebook has been provided. Good luck!\n"
   ]
  },
  {
   "cell_type": "markdown",
   "metadata": {},
   "source": [
    "#### First, pick a random integer from 1 to 100 using the random module and assign it to a variable\n",
    "\n",
    "Note: `random.randint(a,b)` returns a random integer in range `[a, b]`, including both end points."
   ]
  },
  {
   "cell_type": "code",
   "execution_count": 42,
   "metadata": {},
   "outputs": [
    {
     "name": "stdout",
     "output_type": "stream",
     "text": [
      "23\n"
     ]
    }
   ],
   "source": [
    "import random\n",
    "\n",
    "num = random.randint(1,100)\n",
    "print(num)"
   ]
  },
  {
   "cell_type": "markdown",
   "metadata": {},
   "source": [
    "#### Next, print an introduction to the game and explain the rules"
   ]
  },
  {
   "cell_type": "code",
   "execution_count": 3,
   "metadata": {},
   "outputs": [],
   "source": [
    "\n",
    "\n",
    "def inicio_jogo():\n",
    "\n",
    "    print(\"Bem vindo ao jogo da adivinhação!\\n\\n\")\n",
    "    print(\"Estou pensando em um número de 1 a 100\")\n",
    "    print(\"Se o seu palpite é maior do que 10 números de distancia, vai aparecer a mensagem FRIO\")\n",
    "    print(\"Se o seu palpite é ate  10 números de distancia, vai aparecer a mensagem MORNO\")\n",
    "    print(\"Se o seu palpite é mais longe do que o último, vai aparecer a mensagem ESFRIANDO\")\n",
    "    print(\"Se o seu palpite é mais perto do que o último, vai aparecer a mensagem ESQUENTANDO\\n\\n\")\n",
    "    print(\"VAMOS JOGAR!\")\n",
    "    "
   ]
  },
  {
   "cell_type": "markdown",
   "metadata": {},
   "source": [
    "#### Create a list to store guesses\n",
    "\n",
    "Hint: zero is a good placeholder value. It's useful because it evaluates to \"False\""
   ]
  },
  {
   "cell_type": "code",
   "execution_count": 44,
   "metadata": {
    "collapsed": true
   },
   "outputs": [],
   "source": [
    "palpites = [0]"
   ]
  },
  {
   "cell_type": "markdown",
   "metadata": {},
   "source": [
    "#### Write a `while` loop that asks for a valid guess. Test it a few times to make sure it works."
   ]
  },
  {
   "cell_type": "code",
   "execution_count": 1,
   "metadata": {},
   "outputs": [
    {
     "name": "stdout",
     "output_type": "stream",
     "text": [
      "Informe um número de 1 a 100: 101\n",
      "Você escolheu um numero fora do permitido, por favor escolha entre 1 a 100. \n",
      "Informe um número de 1 a 100: 10\n"
     ]
    }
   ],
   "source": [
    "while True:\n",
    "    palpite = int(input(\"Informe um número de 1 a 100: \"))\n",
    "    \n",
    "    if palpite < 1 or palpite > 100:\n",
    "        print(\"Você escolheu um numero fora do permitido, por favor escolha entre 1 a 100. \")\n",
    "        continue\n",
    "    break"
   ]
  },
  {
   "cell_type": "markdown",
   "metadata": {},
   "source": [
    "#### Write a `while` loop that compares the player's guess to our number. If the player guesses correctly, break from the loop. Otherwise, tell the player if they're warmer or colder, and continue asking for guesses.\n",
    "\n",
    "Some hints:\n",
    "* it may help to sketch out all possible combinations on paper first!\n",
    "* you can use the `abs()` function to find the positive difference between two numbers\n",
    "* if you append all new guesses to the list, then the previous guess is given as `guesses[-2]`"
   ]
  },
  {
   "cell_type": "code",
   "execution_count": 4,
   "metadata": {},
   "outputs": [
    {
     "name": "stdout",
     "output_type": "stream",
     "text": [
      "95\n",
      "Bem vindo ao jogo da adivinhação!\n",
      "\n",
      "\n",
      "Estou pensando em um número de 1 a 100\n",
      "Se o seu palpite é maior do que 10 números de distancia, vai aparecer a mensagem FRIO\n",
      "Se o seu palpite é ate  10 números de distancia, vai aparecer a mensagem MORNO\n",
      "Se o seu palpite é mais longe do que o último, vai aparecer a mensagem ESFRIANDO\n",
      "Se o seu palpite é mais perto do que o último, vai aparecer a mensagem ESQUENTANDO\n",
      "\n",
      "\n",
      "VAMOS JOGAR!\n",
      "Informe um número de 1 a 100: 95\n",
      "Parabens você conseguiu fazer o jogo em 1 Tentativas\n"
     ]
    }
   ],
   "source": [
    "import random\n",
    "\n",
    "num = random.randint(1,100)\n",
    "palpites = [0]\n",
    "print(num)\n",
    "inicio_jogo()\n",
    "while True: \n",
    "\n",
    "    try:\n",
    "    #Entrada de valores\n",
    "\n",
    "        palpite = int(input(\"Informe um número de 1 a 100: \"))\n",
    "\n",
    "    #Verificação de validade palpite\n",
    "        if palpite < 1 or palpite > 100:\n",
    "            print(\"Você escolheu um numero fora do permitido, por favor escolha entre 1 a 100. \")\n",
    "            continue\n",
    "\n",
    "    except ValueError:\n",
    "        print(\"Você digitou palavras ao inves de numeros tente novamente!\")\n",
    "\n",
    "    # verificação se o palpite foi correto\n",
    "    if palpite == num:\n",
    "        print('Parabens você conseguiu fazer o jogo em {} Tentativas'.format(len(palpites)))\n",
    "        palpites = [0]\n",
    "        break\n",
    "\n",
    "\n",
    "    # adicionando palpites em uma lista\n",
    "    palpites.append(palpite)\n",
    "\n",
    "    # comparando o penultimo registro com o atual\n",
    "    if palpites[-2]:  \n",
    "        if (num -  palpite) < (num - palpites[-2]):\n",
    "            print('ESQUENTANDO!')\n",
    "        else:\n",
    "            print('ESFRIANDO!')\n",
    "\n",
    "    else:\n",
    "        if (num-palpite) <= 10:\n",
    "            print('QUENTE!')\n",
    "        else:\n",
    "            print('FRIO!')\n"
   ]
  },
  {
   "cell_type": "markdown",
   "metadata": {},
   "source": [
    "That's it! You've just programmed your first game!\n",
    "\n",
    "In the next section we'll learn how to turn some of these repetitive actions into *functions* that can be called whenever we need them."
   ]
  },
  {
   "cell_type": "markdown",
   "metadata": {},
   "source": [
    "### Good Job!"
   ]
  }
 ],
 "metadata": {
  "kernelspec": {
   "display_name": "Python 3",
   "language": "python",
   "name": "python3"
  },
  "language_info": {
   "codemirror_mode": {
    "name": "ipython",
    "version": 3
   },
   "file_extension": ".py",
   "mimetype": "text/x-python",
   "name": "python",
   "nbconvert_exporter": "python",
   "pygments_lexer": "ipython3",
   "version": "3.6.3"
  }
 },
 "nbformat": 4,
 "nbformat_minor": 2
}
