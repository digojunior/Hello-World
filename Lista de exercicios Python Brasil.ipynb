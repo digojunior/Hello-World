{
 "cells": [
  {
   "cell_type": "markdown",
   "metadata": {},
   "source": [
    "Lista de Sequenciais 18 exercicios sequenciais:\n",
    "https://wiki.python.org.br/ListaDeExercicios\n",
    "\n",
    "1. Faça um Programa que mostre a mensagem \"Alo mundo\" na tela. \n",
    "2. Faça um Programa que peça um número e então mostre a mensagem O número informado foi [número]. \n",
    "3. Faça um Programa que peça dois números e imprima a soma. \n",
    "4. Faça um Programa que peça as 4 notas bimestrais e mostre a média. \n",
    "5. Faça um Programa que converta metros para centímetros. \n",
    "6. Faça um Programa que peça o raio de um círculo, calcule e mostre sua área. \n",
    "7. Faça um Programa que calcule a área de um quadrado, em seguida mostre o dobro desta área para o usuário. \n",
    "8. Faça um Programa que pergunte quanto você ganha por hora e o número de horas trabalhadas no mês. Calcule e mostre o total do seu salário no referido mês. \n",
    "9. Faça um Programa que peça a temperatura em graus Farenheit, transforme e mostre a temperatura em graus Celsius. \n",
    "C = (5 * (F-32) / 9). \n",
    "10. Faça um Programa que peça a temperatura em graus Celsius, transforme e mostre em graus Farenheit. \n",
    "11. Faça um Programa que peça 2 números inteiros e um número real. Calcule e mostre: \n",
    "a. o produto do dobro do primeiro com metade do segundo . \n",
    "b. a soma do triplo do primeiro com o terceiro. \n",
    "c. o terceiro elevado ao cubo. \n",
    "12. Tendo como dados de entrada a altura de uma pessoa, construa um algoritmo que calcule seu peso ideal, usando a seguinte fórmula: (72.7*altura) - 58 \n",
    "13. Tendo como dados de entrada a altura e o sexo de uma pessoa, construa um algoritmo que calcule seu peso ideal, utilizando as seguintes fórmulas: \n",
    "a. Para homens: (72.7*h) - 58 \n",
    "b. Para mulheres: (62.1*h) - 44.7 (h = altura) \n",
    "c. Peça o peso da pessoa e informe se ela está dentro, acima ou abaixo do peso. \n",
    "14. João Papo-de-Pescador, homem de bem, comprou um microcomputador para controlar o rendimento diário de seu trabalho. Toda vez que ele traz um peso de peixes maior que o estabelecido pelo regulamento de pesca do estado de São Paulo (50 quilos) deve pagar uma multa de R$ 4,00 por quilo excedente. João precisa que você faça um programa que leia a variável peso (peso de peixes) e verifique se há excesso. Se houver, gravar na variável excesso e na variável multa o valor da multa que João deverá pagar. Caso contrário mostrar tais variáveis com o conteúdo ZERO. \n",
    "15. Faça um Programa que pergunte quanto você ganha por hora e o número de horas trabalhadas no mês. Calcule e mostre o total do seu salário no referido mês, sabendo-se que são descontados 11% para o Imposto de Renda, 8% para o INSS e 5% para o sindicato, faça um programa que nos dê: \n",
    "a. salário bruto. \n",
    "b. quanto pagou ao INSS. \n",
    "c. quanto pagou ao sindicato. \n",
    "d. o salário líquido. \n",
    "e. calcule os descontos e o salário líquido, conforme a tabela abaixo: \n",
    "+\n",
    "-\n",
    "-\n",
    "-\n",
    "=\n",
    "Obs.: Salário Bruto - Descontos = Salário Líquido. \n",
    "16. Faça um programa para uma loja de tintas. O programa deverá pedir o tamanho em metros quadrados da área a ser pintada. Considere que a cobertura da tinta é de 1 litro para cada 3 metros quadrados e que a tinta é vendida em latas de 18 litros, que custam R$ 80,00. Informe ao usuário a quantidades de latas de tinta a serem compradas e o preço total. \n",
    "17. Faça um Programa para uma loja de tintas. O programa deverá pedir o tamanho em metros quadrados da área a ser pintada. Considere que a cobertura da tinta é de 1 litro para cada 6 metros quadrados e que a tinta é vendida em latas de 18 litros, que custam R$ 80,00 ou em galões de 3,6 litros, que custam R$ 25,00. \n",
    "Informe ao usuário as quantidades de tinta a serem compradas e os respectivos preços em 3 situações: \n",
    "comprar apenas latas de 18 litros; \n",
    "comprar apenas galões de 3,6 litros; \n",
    "misturar latas e galões, de forma que o preço seja o menor. Acrescente 10% de folga e sempre arredonde os valores para cima, isto é, considere latas cheias. \n",
    "18. Faça um programa que peça o tamanho de um arquivo para download (em MB) e a velocidade de um link de Internet (em Mbps), calcule e informe o tempo aproximado de download do arquivo usando este link (em minutos).\n"
   ]
  },
  {
   "cell_type": "code",
   "execution_count": 1,
   "metadata": {},
   "outputs": [
    {
     "name": "stdout",
     "output_type": "stream",
     "text": [
      "Alo mundo\n"
     ]
    }
   ],
   "source": [
    "#1. Faça um Programa que mostre a mensagem \"Alo mundo\" na tela. \n",
    "print('Alo mundo')"
   ]
  },
  {
   "cell_type": "code",
   "execution_count": 4,
   "metadata": {},
   "outputs": [
    {
     "name": "stdout",
     "output_type": "stream",
     "text": [
      "Informe um número:10\n",
      "O número informado foi 10\n"
     ]
    }
   ],
   "source": [
    "#2. Faça um Programa que peça um número e então mostre a mensagem O número informado foi [número].\n",
    "num = float(input('Informe um número:'))\n",
    "print('O número informado foi',\"%0.0f\" %num)"
   ]
  },
  {
   "cell_type": "code",
   "execution_count": null,
   "metadata": {
    "collapsed": true
   },
   "outputs": [],
   "source": [
    "#3. Faça um Programa que peça dois números e imprima a soma. \n",
    "a = int(input('Por favor digite o primeiro numero:'))\n",
    "b = int(input('Por favor digite o segundo numero:'))\n",
    "c = b+a\n",
    "print('A soma dos números informados é', c)"
   ]
  },
  {
   "cell_type": "code",
   "execution_count": null,
   "metadata": {
    "collapsed": true
   },
   "outputs": [],
   "source": [
    "#3. Faça um Programa que peça dois números e imprima a soma. \n",
    "a = int(input('Por favor digite o primeiro numero:'))\n",
    "b = int(input('Por favor digite o segundo numero:'))\n",
    "c = b+a\n",
    "print('A soma dos números informados é', c)"
   ]
  },
  {
   "cell_type": "code",
   "execution_count": 1,
   "metadata": {},
   "outputs": [
    {
     "name": "stdout",
     "output_type": "stream",
     "text": [
      "Informe sua 1ª nota: 10\n",
      "Informe sua 2ª nota: 3\n",
      "Informe sua 3ª nota: 4\n",
      "Informe sua 4ª nota: 6\n",
      "Sua média foi 5.75\n"
     ]
    }
   ],
   "source": [
    "#4. Faça um Programa que peça as 4 notas bimestrais e mostre a média.\n",
    "B1 = int(input('Informe sua 1ª nota: '))\n",
    "B2 = int(input('Informe sua 2ª nota: '))\n",
    "B3 = int(input('Informe sua 3ª nota: '))\n",
    "B4 = int(input('Informe sua 4ª nota: '))\n",
    "total = (B1+B2+B3+B4)/4\n",
    "print('Sua média foi', total)"
   ]
  },
  {
   "cell_type": "code",
   "execution_count": 2,
   "metadata": {},
   "outputs": [
    {
     "name": "stdout",
     "output_type": "stream",
     "text": [
      "Digite os Metros que serão centimetros2\n",
      "Você informou 200 Centimetros\n"
     ]
    }
   ],
   "source": [
    "#5. Faça um Programa que converta metros para centímetros. \n",
    "M = int(input('Digite os Metros que serão centimetros'))\n",
    "C = M*100\n",
    "print('Você informou',C,'Centimetros')"
   ]
  },
  {
   "cell_type": "code",
   "execution_count": 3,
   "metadata": {},
   "outputs": [
    {
     "name": "stdout",
     "output_type": "stream",
     "text": [
      "Informe o raio para termos a área do circulo3\n",
      "Essa é a área do circulo 18.85\n"
     ]
    }
   ],
   "source": [
    "#6. Faça um Programa que peça o raio de um círculo, calcule e mostre sua área. \n",
    "import math\n",
    "\n",
    "R = float(input('Informe o raio para termos a área do circulo'))\n",
    "A = (2*math.pi)*R\n",
    "print('Essa é a área do circulo',\"%0.2f\" %A)"
   ]
  },
  {
   "cell_type": "code",
   "execution_count": 5,
   "metadata": {},
   "outputs": [
    {
     "name": "stdout",
     "output_type": "stream",
     "text": [
      "Informe a área em M2 20\n",
      "Area em M2 = 400\n"
     ]
    }
   ],
   "source": [
    "#7. Faça um Programa que calcule a área de um quadrado, em seguida mostre o dobro desta área para o usuário.\n",
    "U = int(input('Informe a área em M2 '))\n",
    "Area = U**2\n",
    "print('Area em M2 =', Area)\n"
   ]
  },
  {
   "cell_type": "code",
   "execution_count": 8,
   "metadata": {},
   "outputs": [
    {
     "name": "stdout",
     "output_type": "stream",
     "text": [
      "Qual é o seu salário por hora?10\n",
      "Quantas Horas você trabalou nesse mês?320\n",
      "Seu Salário esse mÊs será 3200\n"
     ]
    }
   ],
   "source": [
    "#8. Faça um Programa que pergunte quanto você ganha por hora e o número de horas trabalhadas no mês.\n",
    "#Calcule e mostre o total do seu salário no referido mês. \n",
    "Sal_hora = int(input('Qual é o seu salário por hora?'))\n",
    "Hor_mês = int(input('Quantas Horas você trabalou nesse mês?'))\n",
    "sal_total = Sal_hora *Hor_mês\n",
    "\n",
    "print('Seu Salário esse mÊs será',sal_total)"
   ]
  },
  {
   "cell_type": "code",
   "execution_count": 15,
   "metadata": {},
   "outputs": [
    {
     "name": "stdout",
     "output_type": "stream",
     "text": [
      "Informe a temperatura em Fahrenheit: 100\n",
      "Essa é a temperatura em Cº 37.8\n"
     ]
    }
   ],
   "source": [
    "#9. Faça um Programa que peça a temperatura em graus Farenheit, transforme e mostre a temperatura em graus Celsius. \n",
    "#C = (5 * (F-32) / 9). \n",
    "F = int(input('Informe a temperatura em Fahrenheit: '))\n",
    "C = ((F-32) / 1.8)\n",
    "print('Essa é a temperatura em Cº',\"%1.1f\" %C)"
   ]
  },
  {
   "cell_type": "code",
   "execution_count": 17,
   "metadata": {},
   "outputs": [
    {
     "name": "stdout",
     "output_type": "stream",
     "text": [
      "Informe a temperatura em Celcius: 37.8\n",
      "Essa é a temperatura em Fº 100\n"
     ]
    }
   ],
   "source": [
    "#10. Faça um Programa que peça a temperatura em graus Celsius, transforme e mostre em graus Farenheit. \n",
    "C = float(input('Informe a temperatura em Celcius: '))\n",
    "F = (C *1.8+32)\n",
    "print('Essa é a temperatura em Fº',\"%1.0f\" %F)"
   ]
  },
  {
   "cell_type": "code",
   "execution_count": 23,
   "metadata": {},
   "outputs": [
    {
     "name": "stdout",
     "output_type": "stream",
     "text": [
      "Por favor informe um numero inteiro10\n",
      "Por favor informe um numero inteiro5\n",
      "Por favor informe um numero real 10\n",
      "a. o produto do dobro do primeiro com metade do segundo  22.5\n",
      "b. a soma do triplo do primeiro com o terceiro.  40.0\n",
      "c. o terceiro elevado ao cubo. 1000.0\n"
     ]
    }
   ],
   "source": [
    "'''11. Faça um Programa que peça 2 números inteiros e um número real. Calcule e mostre: \n",
    "a. o produto do dobro do primeiro com metade do segundo . \n",
    "b. a soma do triplo do primeiro com o terceiro. \n",
    "c. o terceiro elevado ao cubo. '''\n",
    "\n",
    "import math\n",
    "\n",
    "int1 = int(input('Por favor informe um numero inteiro' ))\n",
    "int2 = int(input('Por favor informe um numero inteiro' ))\n",
    "real = float(input('Por favor informe um numero real '))\n",
    "\n",
    "a = (int1*2)+(int2/2)\n",
    "\n",
    "b = (int1*3)+real\n",
    "\n",
    "c = math.pow(real, 3)\n",
    "\n",
    "print('a. o produto do dobro do primeiro com metade do segundo ', a)\n",
    "print('b. a soma do triplo do primeiro com o terceiro. ', b)\n",
    "print('c. o terceiro elevado ao cubo.', c)\n",
    "\n"
   ]
  },
  {
   "cell_type": "code",
   "execution_count": null,
   "metadata": {},
   "outputs": [],
   "source": [
    "'''12. Tendo como dados de entrada a altura de uma pessoa, \n",
    "construa um algoritmo que calcule seu peso ideal, usando a seguinte fórmula: (72.7*altura) - 58 \n",
    "'''\n",
    "altura = float(input('Por favor informe sua altura em metros: '))\n",
    "peso_ideal = (72.7*altura) - 58\n",
    "print('Seu peso ideal é ', \"%.2\"%peso_ideal)\n",
    "    \n",
    "    "
   ]
  },
  {
   "cell_type": "code",
   "execution_count": null,
   "metadata": {},
   "outputs": [],
   "source": [
    "'''13. Tendo como dados de entrada a altura e o sexo de uma pessoa, \n",
    "construa um algoritmo que calcule seu peso ideal, utilizando as seguintes fórmulas: \n",
    "a. Para homens: (72.7*h) - 58 \n",
    "b. Para mulheres: (62.1*h) - 44.7 (h = altura) \n",
    "c. Peça o peso da pessoa e informe se ela está dentro, acima ou abaixo do peso. '''\n",
    "\n",
    "def peso_ideal():\n",
    "    altura = ''\n",
    "    sexo = input('Seu sexo é M ou F?')\n",
    "    while (sexo == 'M' or sexo =='F'):\n",
    "        if sexo == 'M':\n",
    "            altura = float(input('Informe sua altura em metros: '))\n",
    "            ideal = (72.7*altura) - 58 \n",
    "            print('Seu peso ideal é: ',\"%1.1f\" %ideal)\n",
    "        \n",
    "        else:\n",
    "            altura = float(input('Informe sua altura em metros: '))\n",
    "            ideal = (62.1*altura) - 44.7\n",
    "            print('Seu peso ideal é: ',\"%1.1f\" %ideal)"
   ]
  },
  {
   "cell_type": "code",
   "execution_count": null,
   "metadata": {},
   "outputs": [],
   "source": [
    "peso_ideal()"
   ]
  },
  {
   "cell_type": "code",
   "execution_count": 7,
   "metadata": {},
   "outputs": [],
   "source": [
    "'''14. João Papo-de-Pescador, homem de bem, comprou um microcomputador para controlar o rendimento diário de seu trabalho.\n",
    "\n",
    "Toda vez que ele traz um peso de peixes maior que o estabelecido pelo regulamento de pesca do estado de São Paulo (50 quilos)\n",
    "deve pagar uma multa de R$ 4,00 por quilo excedente. João precisa que você faça um programa que leia a variável peso\n",
    "(peso de peixes) e verifique se há excesso. Se houver, gravar na variável excesso e na variável multa o valor da multa que\n",
    "João deverá pagar. Caso contrário mostrar tais variáveis com o conteúdo ZERO.'''\n",
    "\n",
    "def papo_pescador():\n",
    "    peso = int(input('Informe o peso do peixe'))\n",
    "    multa = 4.00 \n",
    "    reg = 50\n",
    "    excesso = ''\n",
    "    if (peso>reg):\n",
    "        excesso = peso-reg\n",
    "        multa *= excesso \n",
    "        print('Você deverá para multa de ', multa)\n",
    "    else:\n",
    "        print('Você não ultrapassou o limite e não deverá pagar multa')\n",
    "    \n",
    "\n",
    "    "
   ]
  },
  {
   "cell_type": "code",
   "execution_count": 8,
   "metadata": {},
   "outputs": [
    {
     "name": "stdout",
     "output_type": "stream",
     "text": [
      "Informe o peso do peixe55\n",
      "Você deverá para multa de  20.0\n"
     ]
    }
   ],
   "source": [
    "papo_pescador()"
   ]
  },
  {
   "cell_type": "code",
   "execution_count": 8,
   "metadata": {},
   "outputs": [],
   "source": [
    "'''15. Faça um Programa que pergunte quanto você ganha por hora e o número de horas trabalhadas no mês.\n",
    "Calcule e mostre o total do seu salário no referido mês, sabendo-se que são descontados 11% para o Imposto de Renda,\n",
    "8% para o INSS e 5% para o sindicato, faça um programa que nos dê: \n",
    "a. salário bruto. \n",
    "b. quanto pagou ao INSS. \n",
    "c. quanto pagou ao sindicato. \n",
    "d. o salário líquido. \n",
    "e. calcule os descontos e o salário líquido, conforme a tabela abaixo: \n",
    "+\n",
    "-\n",
    "-\n",
    "-\n",
    "=\n",
    "Obs.: Salário Bruto - Descontos = Salário Líquido. '''\n",
    "\n",
    "def salario_mes():\n",
    "    print('Faremos o calculo de sua folha de pagamento! \\n')\n",
    "    perg1 = int(input('Informe salário por hora '))\n",
    "    perg2 = int(input('Informe horas trabalhadas '))\n",
    "    \n",
    "    a = perg1 * perg2\n",
    "    print('Salario bruto recebido foi ', a)\n",
    "    \n",
    "    b= (8*a)/100\n",
    "    print('Ovalor pago de INSS foi ', b)\n",
    "    \n",
    "    c =(5*a)/100\n",
    "    print('Ovalor pago ao sindicato foi ', c)\n",
    "    \n",
    "    d = a-b-c\n",
    "    print('O seu salario liquido foi ', d)\n",
    "    \n",
    "    print('Os seus descontos foram \\n +salario bruto ', a, '\\n -INSS ',b,'\\n -sindicato ',c,'\\n salario liquido ',d )\n",
    "    \n"
   ]
  },
  {
   "cell_type": "code",
   "execution_count": 9,
   "metadata": {},
   "outputs": [
    {
     "name": "stdout",
     "output_type": "stream",
     "text": [
      "Faremos o calculo de sua folha de pagamento! \n",
      "\n",
      "Informe salário por hora 20\n",
      "Informe horas trabalhadas 160\n",
      "Salario bruto recebido foi  3200\n",
      "Ovalor pago de INSS foi  256.0\n",
      "Ovalor pago ao sindicato foi  160.0\n",
      "O seu salario liquido foi  2784.0\n",
      "Os seus descontos foram \n",
      " +salario bruto  3200 \n",
      " -INSS  256.0 \n",
      " -sindicato  160.0 \n",
      " salario liquido  2784.0\n"
     ]
    }
   ],
   "source": [
    "salario_mes()"
   ]
  },
  {
   "cell_type": "code",
   "execution_count": 15,
   "metadata": {},
   "outputs": [],
   "source": [
    "'''16. Faça um programa para uma loja de tintas. O programa deverá pedir o tamanho em metros quadrados da área a ser pintada.\n",
    "Considere que a cobertura da tinta é de 1 litro para cada 3 metros quadrados e que a tinta é vendida em latas de 18 litros,\n",
    "que custam R$ 80,00. Informe ao usuário a quantidades de latas de tinta a serem compradas e o preço total.'''\n",
    "import math\n",
    "def loja_tintas():\n",
    "    m2 = int(input('Informe o tamanho em M2 da área a ser pintada: ')) # 200\n",
    "    litros_usados = (m2 /3) #66\n",
    "    latas_usadas = int(litros_usados / 18) #3.70\n",
    "    if(litros_usados % 18 != 0):\n",
    "        latas_usadas +=1\n",
    "    print('Você terá que usar',latas_usadas,' latas')\n",
    "    print('O valor total é ', latas_usadas*80)\n",
    "\n"
   ]
  },
  {
   "cell_type": "code",
   "execution_count": 16,
   "metadata": {},
   "outputs": [
    {
     "name": "stdout",
     "output_type": "stream",
     "text": [
      "Informe o tamanho em M2 da área a ser pintada: 200\n",
      "Você terá que usar 4  latas\n",
      "O valor total é  320\n"
     ]
    }
   ],
   "source": [
    "loja_tintas()"
   ]
  },
  {
   "cell_type": "code",
   "execution_count": 52,
   "metadata": {},
   "outputs": [],
   "source": [
    "'''17. Faça um Programa para uma loja de tintas. O programa deverá pedir o tamanho em metros quadrados da área a ser pintada.\n",
    "Considere que a cobertura da tinta é de 1 litro para cada 6 metros quadrados e que a tinta é vendida em latas de 18 litros,\n",
    "que custam R$ 80,00 ou em galões de 3,6 litros, que custam R$ 25,00. \n",
    "Informe ao usuário as quantidades de tinta a serem compradas e os respectivos preços em 3 situações: \n",
    "comprar apenas latas de 18 litros; \n",
    "comprar apenas galões de 3,6 litros; \n",
    "Misturar latas e galões, de forma que o preço seja o menor. Acrescente 10% de folga e sempre arredonde os valores para cima,\n",
    "isto é, considere latas cheias.'''\n",
    "\n",
    "\n",
    "def loja_tintas2():\n",
    "    m2 = int(input('Informe o tamanho em M2 da área a ser pintada: ')) # 200\n",
    "    litros = (m2 /6)*1.1 #66\n",
    "    latas = int(litros / 18) #3.70\n",
    "    galao = int(litros / 3.6)\n",
    "    if(litros % 18 != 0):\n",
    "        latas +=1\n",
    "        print('Você terá que usar',latas,' latas')\n",
    "        print('O valor total é ', latas*80)\n",
    "    if(galao % 3.6 != 0):\n",
    "        galao += 1\n",
    "        print('Você terá que usar',galao,' galões')\n",
    "        print('O valor total é ', galao*25)\n",
    "        mix_latas = int(litros / 18)\n",
    "        mix_lat_gal = int((litros - (mixlatas * 18.0)) / 3.6)\n",
    "    if ((litros - (mixlatas * 18.0) % 3.6 != 0)):\n",
    "        mix_lat_gal += 1\n",
    "        print('Você terá que usar',mix_latas,'latas e',mix_lat_gal, 'galões')\n",
    "        print('O valor total em no mix de latas e galões é ', ((mixlatas*80)+(mix_lat_gal*25)))\n"
   ]
  },
  {
   "cell_type": "code",
   "execution_count": 53,
   "metadata": {},
   "outputs": [
    {
     "name": "stdout",
     "output_type": "stream",
     "text": [
      "Informe o tamanho em M2 da área a ser pintada: 200\n",
      "Você terá que usar 3  latas\n",
      "O valor total é  240\n",
      "Você terá que usar 11  galões\n",
      "O valor total é  275\n",
      "Você terá que usar 2 latas e 1 galões\n",
      "O valor total em latas é  185\n"
     ]
    }
   ],
   "source": [
    "loja_tintas2()"
   ]
  },
  {
   "cell_type": "code",
   "execution_count": 57,
   "metadata": {},
   "outputs": [
    {
     "name": "stdout",
     "output_type": "stream",
     "text": [
      "Informe o tamanho de um arquivo em MB: 2000\n",
      "Informe a velocidade da internet em MBPS: 2\n",
      "Tempo aproximado de download é 133.3 minutos\n"
     ]
    }
   ],
   "source": [
    "'''18. Faça um programa que peça o tamanho de um arquivo para download (em MB)\n",
    "e a velocidade de um link de Internet (em Mbps), calcule e informe o tempo aproximado de download do arquivo usando este\n",
    "link (em minutos). \n",
    "'''\n",
    "arquivo = float(input('Informe o tamanho de um arquivo em MB: '))\n",
    "velocidade = float(input('Informe a velocidade da internet em MBPS: '))\n",
    "\n",
    "tamanho = arquivo * 1024 * 1024 * 8\n",
    "segundos = tamanho / (velocidade * 1024 * 1024)\n",
    "minutos = segundos / 60\n",
    "\n",
    "print ('Tempo aproximado de download é', \"%1.1f\" %minutos, 'minutos')"
   ]
  }
 ],
 "metadata": {
  "kernelspec": {
   "display_name": "Python 3",
   "language": "python",
   "name": "python3"
  },
  "language_info": {
   "codemirror_mode": {
    "name": "ipython",
    "version": 3
   },
   "file_extension": ".py",
   "mimetype": "text/x-python",
   "name": "python",
   "nbconvert_exporter": "python",
   "pygments_lexer": "ipython3",
   "version": "3.6.3"
  }
 },
 "nbformat": 4,
 "nbformat_minor": 2
}
