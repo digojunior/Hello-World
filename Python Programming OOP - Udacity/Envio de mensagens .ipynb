{
 "cells": [
  {
   "cell_type": "code",
   "execution_count": 9,
   "metadata": {},
   "outputs": [],
   "source": [
    "# Download the helper library from https://www.twilio.com/docs/python/install\n",
    "\n",
    "# Download the helper library from https://www.twilio.com/docs/python/install\n",
    "from twilio.rest import Client\n",
    "\n",
    "\n",
    "# Your Account Sid and Auth Token from twilio.com/console\n",
    "account_sid = 'AC825518da4c5edc941bde94a78819e30c'\n",
    "auth_token = '1006733d1858ec1259dfad37ed7cb5ce'\n",
    "client = Client(account_sid, auth_token)\n",
    "\n",
    "message = client.messages.create(\n",
    "                              body='Testando Twilio',\n",
    "                              from_='++2569800171',\n",
    "                              to='+5511972378983'\n",
    "                          )\n",
    "\n",
    "print(message.sid)"
   ]
  },
  {
   "cell_type": "code",
   "execution_count": null,
   "metadata": {
    "collapsed": true
   },
   "outputs": [],
   "source": []
  }
 ],
 "metadata": {
  "kernelspec": {
   "display_name": "Python 3",
   "language": "python",
   "name": "python3"
  },
  "language_info": {
   "codemirror_mode": {
    "name": "ipython",
    "version": 3
   },
   "file_extension": ".py",
   "mimetype": "text/x-python",
   "name": "python",
   "nbconvert_exporter": "python",
   "pygments_lexer": "ipython3",
   "version": "3.6.3"
  }
 },
 "nbformat": 4,
 "nbformat_minor": 2
}
