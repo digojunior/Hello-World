{
 "cells": [
  {
   "cell_type": "code",
   "execution_count": 46,
   "metadata": {
    "collapsed": true
   },
   "outputs": [],
   "source": [
    "def chamada_hora():\n",
    "    \n",
    "    '''Essa funçao retorna o horário atual com o horario de brasília'''\n",
    "\n",
    "    from datetime import datetime\n",
    "    from pytz import timezone\n",
    "\n",
    "    data_e_hora_atuais = datetime.now()\n",
    "    fuso_horario = timezone('America/Sao_Paulo')\n",
    "    data_e_hora_sao_paulo = data_e_hora_atuais.astimezone(fuso_horario)\n",
    "    hora_atual = data_e_hora_sao_paulo.strftime('%d/%m/%Y %H:%M:%S')\n",
    "    return hora_atual\n",
    "\n",
    "def programa_tocamusica():\n",
    "    \n",
    "    import webbrowser\n",
    "\n",
    "    total_paradas = 3\n",
    "    contador = 1\n",
    "\n",
    "    print('Esse programa começou em', chamada_hora())\n",
    "    while (contador <= total_paradas):\n",
    "        time.sleep(10) # Define tempo de espera para execução\n",
    "        webbrowser.open(\"https://www.youtube.com\")#abertura de url\n",
    "        print(\"Está sendo executado pela {} vez, {}\".format(contador, chamada_hora()))\n",
    "        contador += 1\n",
    "    print('Volte ao trabalho já estamos no dia {} horas, você já descansou!!'.format(chamada_hora()))\n"
   ]
  },
  {
   "cell_type": "code",
   "execution_count": 1,
   "metadata": {},
   "outputs": [],
   "source": []
  },
  {
   "cell_type": "code",
   "execution_count": 2,
   "metadata": {},
   "outputs": [
    {
     "ename": "NameError",
     "evalue": "name 'toy_story' is not defined",
     "output_type": "error",
     "traceback": [
      "\u001b[1;31m---------------------------------------------------------------------------\u001b[0m",
      "\u001b[1;31mNameError\u001b[0m                                 Traceback (most recent call last)",
      "\u001b[1;32m<ipython-input-2-0fb6bc8a01de>\u001b[0m in \u001b[0;36m<module>\u001b[1;34m()\u001b[0m\n\u001b[1;32m----> 1\u001b[1;33m \u001b[0mtoy_story\u001b[0m\u001b[1;33m.\u001b[0m\u001b[0mmostrar_trailer\u001b[0m\u001b[1;33m(\u001b[0m\u001b[1;33m)\u001b[0m\u001b[1;33m\u001b[0m\u001b[0m\n\u001b[0m",
      "\u001b[1;31mNameError\u001b[0m: name 'toy_story' is not defined"
     ]
    }
   ],
   "source": [
    "toy_story.mostrar_trailer()"
   ]
  },
  {
   "cell_type": "code",
   "execution_count": null,
   "metadata": {
    "collapsed": true
   },
   "outputs": [],
   "source": []
  }
 ],
 "metadata": {
  "kernelspec": {
   "display_name": "Python 3",
   "language": "python",
   "name": "python3"
  },
  "language_info": {
   "codemirror_mode": {
    "name": "ipython",
    "version": 3
   },
   "file_extension": ".py",
   "mimetype": "text/x-python",
   "name": "python",
   "nbconvert_exporter": "python",
   "pygments_lexer": "ipython3",
   "version": "3.6.3"
  }
 },
 "nbformat": 4,
 "nbformat_minor": 2
}
