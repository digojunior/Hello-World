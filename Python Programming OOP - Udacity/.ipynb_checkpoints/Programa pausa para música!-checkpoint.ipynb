{
 "cells": [
  {
   "cell_type": "code",
   "execution_count": 46,
   "metadata": {},
   "outputs": [],
   "source": [
    "def chamada_hora():\n",
    "    \n",
    "    '''Essa funçao retorna o horário atual com o horario de brasília'''\n",
    "\n",
    "    from datetime import datetime\n",
    "    from pytz import timezone\n",
    "\n",
    "    data_e_hora_atuais = datetime.now()\n",
    "    fuso_horario = timezone('America/Sao_Paulo')\n",
    "    data_e_hora_sao_paulo = data_e_hora_atuais.astimezone(fuso_horario)\n",
    "    hora_atual = data_e_hora_sao_paulo.strftime('%d/%m/%Y %H:%M:%S')\n",
    "    return hora_atual\n",
    "\n",
    "def programa_tocamusica():\n",
    "    \n",
    "    import webbrowser\n",
    "\n",
    "    total_paradas = 3\n",
    "    contador = 1\n",
    "\n",
    "    print('Esse programa começou em', chamada_hora())\n",
    "    while (contador <= total_paradas):\n",
    "        time.sleep(10) # Define tempo de espera para execução\n",
    "        webbrowser.open(\"https://www.youtube.com\")#abertura de url\n",
    "        print(\"Está sendo executado pela {} vez, {}\".format(contador, chamada_hora()))\n",
    "        contador += 1\n",
    "    print('Volte ao trabalho já estamos no dia {} horas, você já descansou!!'.format(chamada_hora()))\n"
   ]
  },
  {
   "cell_type": "code",
   "execution_count": 47,
   "metadata": {},
   "outputs": [
    {
     "name": "stdout",
     "output_type": "stream",
     "text": [
      "Esse programa começou em 01/06/2018 18:15:38\n",
      "Está sendo executado pela 1 vez, 01/06/2018 18:15:48\n",
      "Está sendo executado pela 2 vez, 01/06/2018 18:15:58\n",
      "Está sendo executado pela 3 vez, 01/06/2018 18:16:08\n",
      "Volte ao trabalho já estamos no dia 01/06/2018 18:16:08 horas, você já descansou!!\n"
     ]
    }
   ],
   "source": [
    "programa_tocamusica()"
   ]
  },
  {
   "cell_type": "code",
   "execution_count": null,
   "metadata": {
    "collapsed": true
   },
   "outputs": [],
   "source": []
  }
 ],
 "metadata": {
  "kernelspec": {
   "display_name": "Python 3",
   "language": "python",
   "name": "python3"
  },
  "language_info": {
   "codemirror_mode": {
    "name": "ipython",
    "version": 3
   },
   "file_extension": ".py",
   "mimetype": "text/x-python",
   "name": "python",
   "nbconvert_exporter": "python",
   "pygments_lexer": "ipython3",
   "version": "3.6.3"
  }
 },
 "nbformat": 4,
 "nbformat_minor": 2
}
