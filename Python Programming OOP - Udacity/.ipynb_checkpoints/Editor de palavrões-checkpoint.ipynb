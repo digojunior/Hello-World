{
 "cells": [
  {
   "cell_type": "code",
   "execution_count": 25,
   "metadata": {},
   "outputs": [
    {
     "name": "stdout",
     "output_type": "stream",
     "text": [
      "Informe uma frase e veremos se você usou palavrão: teste viado\n",
      "A frase digitada foi:   teste viado\n",
      "TESTE não é palavrão\n",
      "VIADO É Palavrão!!\n"
     ]
    }
   ],
   "source": [
    "'''Detector de palavrões em PT-BR'''\n",
    "def editor_palavroes():\n",
    "    abertura = open (\"C:/Users/Rodri/OneDrive/Documentos/Python/lista_palavrao.txt\")\n",
    "    leitura = abertura.read()\n",
    "    usuario = input(\"Informe uma frase e veremos se você usou palavrão: \")\n",
    "    separador_palavras = usuario.split()\n",
    "    \n",
    "    lista_maiuscula = [palavra.upper() for palavra in separador_palavras]\n",
    "    contador = 0\n",
    "    print(\"A frase digitada foi:  \", usuario)\n",
    "    while contador < len(lista_maiuscula):  \n",
    "        for palavra in lista_maiuscula:\n",
    "            if palavra in leitura:\n",
    "                print(palavra, \"É Palavrão!!\")\n",
    "            else:\n",
    "                print(palavra, \"não é palavrão\")\n",
    "            contador += 1\n",
    "        \n",
    "    abertura.close()\n",
    "    \n",
    "    \n",
    "editor_palavroes()"
   ]
  },
  {
   "cell_type": "code",
   "execution_count": null,
   "metadata": {
    "collapsed": true
   },
   "outputs": [],
   "source": [
    "'''Detector de palavrões em Inglês'''\n",
    "import urllib\n",
    "def checar_texto():\n",
    "    texto = input(\"Digite o texto e veremos se tem palavrão!\")\n",
    "    conexao = urllib.request.urlopen(\"http://www.wdylike.appspot.com/?q=\"+texto)\n",
    "    saida = conexao.read()\n",
    "    saida_str = str(saida)\n",
    "    if 'false' in saida_str:\n",
    "        print(\"Não tem palavrão\")\n",
    "    else:\n",
    "        print(\"Ops foi encontrado palavrão na frase\", texto)\n",
    "    \n",
    "    \n",
    "checar_texto()    "
   ]
  },
  {
   "cell_type": "code",
   "execution_count": 66,
   "metadata": {},
   "outputs": [
    {
     "name": "stdout",
     "output_type": "stream",
     "text": [
      "Digite a palavratrue\n",
      "-1\n"
     ]
    }
   ],
   "source": [
    "saida_str = input(\"Digite a palavra\")\n",
    "print(str.find(saida_str,'false'))"
   ]
  },
  {
   "cell_type": "code",
   "execution_count": null,
   "metadata": {
    "collapsed": true
   },
   "outputs": [],
   "source": [
    "'''Exemplo de como dividir strings a partir da letra maiuscula com a biblioteca re'''\n",
    ">import re\n",
    "re.findall('[A-Z][^A-Z]*', 'TheLongAndWindingRoad')\n",
    "['The', 'Long', 'And', 'Winding', 'Road']\n",
    ">>> re.findall('[A-Z][^A-Z]*', 'ABC')\n",
    "['A', 'B', 'C']"
   ]
  },
  {
   "cell_type": "code",
   "execution_count": null,
   "metadata": {
    "collapsed": true
   },
   "outputs": [],
   "source": []
  }
 ],
 "metadata": {
  "kernelspec": {
   "display_name": "Python 3",
   "language": "python",
   "name": "python3"
  },
  "language_info": {
   "codemirror_mode": {
    "name": "ipython",
    "version": 3
   },
   "file_extension": ".py",
   "mimetype": "text/x-python",
   "name": "python",
   "nbconvert_exporter": "python",
   "pygments_lexer": "ipython3",
   "version": "3.6.3"
  }
 },
 "nbformat": 4,
 "nbformat_minor": 2
}
