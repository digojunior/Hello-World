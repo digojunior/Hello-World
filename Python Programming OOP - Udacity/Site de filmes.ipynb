{
 "cells": [
  {
   "cell_type": "code",
   "execution_count": 1,
   "metadata": {
    "collapsed": true
   },
   "outputs": [],
   "source": [
    "# importar minhas classes do sistema\n",
    "import sys\n",
    "sys.path.insert(1,'C:/Users/Rodri/Downloads')"
   ]
  },
  {
   "cell_type": "code",
   "execution_count": 2,
   "metadata": {
    "scrolled": true
   },
   "outputs": [],
   "source": [
    "#Esse é o programa do filme que eu importei na celula acima\n",
    "\n",
    "\n",
    "import media\n",
    "import fresh_tomatoes\n",
    "import webbrowser\n",
    "\n",
    "'''class Movie:\n",
    "    def __init__(self, movie_title, movie_storyline, poster_image, trailer_youtube):\n",
    "        self.title = movie_title\n",
    "        self.storyline = sinopse_filme\n",
    "        self.poster_image_url = poster_image\n",
    "        self.trailer_youtube = trailer_youtube_url\n",
    "    def show_trailer(self):\n",
    "        webbrowser.open(self.trailer_youtube_url)'''\n",
    "\n",
    "\n",
    "toy_story = media.Movie('Toy Story',\n",
    "                  'É um filme referente a um menino que gosta de brinquedos e etc',\n",
    "                 'https://img.fstatic.com/AcRyK2MwoEfmQq3tJChU2J8hYn8=/fit-in/210x312/smart/https://cdn.fstatic.com/media/movies/covers/2010/12/1976bb35b69a00c294eb5decf0047db4.jpg',\n",
    "                 'https://www.youtube.com/watch?v=KYz2wyBy3kc')\n",
    "avatar = media.Movie('Avatar',\n",
    "                'É um filme de ficcao cientifica e etc',\n",
    "                'https://i.ytimg.com/vi/ZI5aRAzUrrI/maxresdefault.jpg',\n",
    "                'https://www.youtube.com/watch?v=d1_JBMrrYw8')\n",
    "\n",
    "movies = [toy_story, avatar]\n",
    "fresh_tomatoes.open_movies_page(movies)\n"
   ]
  },
  {
   "cell_type": "code",
   "execution_count": null,
   "metadata": {
    "collapsed": true
   },
   "outputs": [],
   "source": []
  }
 ],
 "metadata": {
  "kernelspec": {
   "display_name": "Python 3",
   "language": "python",
   "name": "python3"
  },
  "language_info": {
   "codemirror_mode": {
    "name": "ipython",
    "version": 3
   },
   "file_extension": ".py",
   "mimetype": "text/x-python",
   "name": "python",
   "nbconvert_exporter": "python",
   "pygments_lexer": "ipython3",
   "version": "3.6.3"
  }
 },
 "nbformat": 4,
 "nbformat_minor": 2
}
