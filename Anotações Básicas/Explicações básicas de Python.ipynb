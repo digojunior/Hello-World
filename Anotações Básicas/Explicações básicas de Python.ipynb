{
 "cells": [
  {
   "cell_type": "code",
   "execution_count": 1,
   "metadata": {},
   "outputs": [],
   "source": [
    "'''Explicação de passagem de parâmetro'''\n",
    "def um():\n",
    "    x = 1  #valor de x\n",
    "    print (x) # imprime x = 1\n",
    "    dois(x) # passa o valor 1 para a função dois()\n",
    "    print (x) #imprime x = 1\n",
    "    \n",
    "def dois(y): #supondo que se passe o valor 3 como parametro de Y\n",
    "    print (y) #imprime 3\n",
    "    y = 2 # novo valor de Y\n",
    "    print (y) #imprime 2"
   ]
  },
  {
   "cell_type": "code",
   "execution_count": null,
   "metadata": {
    "collapsed": true
   },
   "outputs": [],
   "source": [
    "#Rápida exemplo de orientação a objeto\n",
    "\n",
    "class Meu_objeto():\n",
    "    def __init__(self):\n",
    "        self.nome = input(\"Qual é o seu nome?\")\n",
    "        self.idade = input(\"Qual é a sua idade?\")\n",
    "        print(\"constutor chamado com sucesso\")\n",
    "    def imprime(self):\n",
    "        print(\"Olá meu nome é {} e tenho {} anos\".format(self.nome, self.idade))\n",
    "        "
   ]
  },
  {
   "cell_type": "code",
   "execution_count": null,
   "metadata": {
    "collapsed": true
   },
   "outputs": [],
   "source": [
    "'''Ler e criar arquivos:\n",
    "Onde estou: pwd\n",
    "Criar arquivos no jupyter:'''\n",
    "\n",
    "%%writefile teste.txt\n",
    "é usado para crair um\n",
    " arquivo no jupyter\n",
    "\n",
    "IO files:  Ler 'r', criar 'w' e adicionar novos dados (append) 'a' \n",
    "Para abrir um arquivo no python: f = open('C:\\\\Users\\\\Rodri\\\\Desktop\\\\teste.txt', 'r')\n",
    "Para ler as linhas do arquivo no python: f.readlines()\n",
    "Para ler o arquivo inteiro: f.read()\n",
    "Para ler o arquivo do inicio de novo: f.seek(0)\n",
    "Para fechar o arquivo no python f.close()\n",
    "\n",
    "Impressao e leitura de floats exemplo de código:\n",
    "\n",
    "num = float(input(\"Digite um numero: \"))\n",
    "print(\"O numero digitado foi %.3f\" %num)"
   ]
  },
  {
   "cell_type": "code",
   "execution_count": null,
   "metadata": {
    "collapsed": true
   },
   "outputs": [],
   "source": [
    "Registro = Meu_objeto()"
   ]
  },
  {
   "cell_type": "code",
   "execution_count": null,
   "metadata": {
    "collapsed": true
   },
   "outputs": [],
   "source": [
    "Registro.imprime()"
   ]
  },
  {
   "cell_type": "code",
   "execution_count": null,
   "metadata": {
    "collapsed": true
   },
   "outputs": [],
   "source": [
    "# ex 2\n",
    "class Minha:\n",
    "    def __init__(self):\n",
    "        self.x = 0\n",
    "        self.y = 0\n",
    "        "
   ]
  },
  {
   "cell_type": "code",
   "execution_count": null,
   "metadata": {
    "collapsed": true
   },
   "outputs": [],
   "source": [
    "meu = Minha()"
   ]
  },
  {
   "cell_type": "code",
   "execution_count": null,
   "metadata": {
    "collapsed": true
   },
   "outputs": [],
   "source": [
    "meu.x = 5"
   ]
  },
  {
   "cell_type": "code",
   "execution_count": null,
   "metadata": {
    "collapsed": true
   },
   "outputs": [],
   "source": [
    "print(meu.x, meu.y"
   ]
  },
  {
   "cell_type": "code",
   "execution_count": null,
   "metadata": {
    "collapsed": true
   },
   "outputs": [],
   "source": [
    "#3 - Como conectar ao banco de dados mysql\n",
    "\n",
    "# importação de biblioteca de conexão\n",
    "import mysql.connector\n",
    "\n",
    "#criando conexão\n",
    "cnx = mysql.connector.connect(user='root',host='localhost',password = '123456',\n",
    "                              database='cadastro')\n",
    "#cursor de conexão\n",
    "cursor = cnx.cursor()\n",
    "\n",
    "#consulta sql\n",
    "sql = \"select * FROM cliente\"\n",
    "\n",
    "#execução da consulta\n",
    "teste = cursor.execute(sql)\n",
    "\n",
    "# output da consulta\n",
    "for linha in cursor.fetchall():\n",
    "    print(linha)\n",
    "\n",
    "#fechando conexão\n",
    "cnx.close()"
   ]
  },
  {
   "cell_type": "code",
   "execution_count": null,
   "metadata": {
    "collapsed": true
   },
   "outputs": [],
   "source": [
    "# Ex 4 - Bibliotecas para conexão com o postgre\n",
    "import psycopg2\n",
    "import sys"
   ]
  },
  {
   "cell_type": "code",
   "execution_count": null,
   "metadata": {
    "collapsed": true
   },
   "outputs": [],
   "source": [
    "#Criar conexão conn = psycopg2.connect(\"dbname=curso_q4l user=postgres\")\n",
    "\n",
    "#Cursor para maniular o banco cur = conn.cursor()\n",
    "\n",
    "#Criando tabela com o cursor cur.execute(\"CREATE TABLE person (id serial PRIMARY KEY, name text, age integer);\")\n",
    "\n",
    "#inserindo dados com o cursor cur.execute(\"INSERT INTO person (name, age) VALUES (%s, %s)\",(\"O'Relly\", 60))\n",
    "\n",
    "#select dados com cursor cur.execute(\"SELECT * FROM person;\") cur.fetchall()\n",
    "\n",
    "#fechando cursor cur.close() conn.close()"
   ]
  },
  {
   "cell_type": "code",
   "execution_count": null,
   "metadata": {
    "collapsed": true
   },
   "outputs": [],
   "source": [
    "# Exemplo completo Postgre\n",
    "\n",
    "import psycopg2\n",
    "import sys\n",
    " \n",
    " \n",
    "con = None\n",
    " \n",
    "con = psycopg2.connect(\"host='localhost' dbname='curso_q4l' user='postgres' password='123456'\")   \n",
    "cur = con.cursor()\n",
    "\n",
    "'''cur.execute(\"CREATE TABLE Products(Id INTEGER PRIMARY KEY, Name VARCHAR(20), Price INT)\")\n",
    "cur.execute(\"INSERT INTO Products VALUES(1,'Milk',5)\")\n",
    "cur.execute(\"INSERT INTO Products VALUES(2,'Sugar',7)\")\n",
    "cur.execute(\"INSERT INTO Products VALUES(3,'Coffee',3)\")\n",
    "cur.execute(\"INSERT INTO Products VALUES(4,'Bread',5)\")\n",
    "cur.execute(\"INSERT INTO Products VALUES(5,'Oranges',3)\")'''\n",
    "con.commit()\n",
    "\n",
    "'''except psycopg2.DatabaseError():\n",
    "    if con:\n",
    "        con.rollback()\n",
    "        print ('Error',e)    \n",
    "        sys.exit(1)\n",
    " \n",
    "finally:   \n",
    "    if con:\n",
    "        con.close()'''\n",
    "\n"
   ]
  }
 ],
 "metadata": {
  "kernelspec": {
   "display_name": "Python 3",
   "language": "python",
   "name": "python3"
  },
  "language_info": {
   "codemirror_mode": {
    "name": "ipython",
    "version": 3
   },
   "file_extension": ".py",
   "mimetype": "text/x-python",
   "name": "python",
   "nbconvert_exporter": "python",
   "pygments_lexer": "ipython3",
   "version": "3.6.3"
  }
 },
 "nbformat": 4,
 "nbformat_minor": 2
}
