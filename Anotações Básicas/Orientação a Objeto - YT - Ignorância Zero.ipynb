{
 "cells": [
  {
   "cell_type": "code",
   "execution_count": 12,
   "metadata": {
    "collapsed": true
   },
   "outputs": [],
   "source": [
    "class Meu_objeto():\n",
    "    def __init__(self):\n",
    "        self.nome = input(\"Qual é o seu nome?\")\n",
    "        self.idade = input(\"Qual é a sua idade?\")\n",
    "        print(\"constutor chamado com sucesso\")\n",
    "    def imprime(self):\n",
    "        print(\"Olá meu nome é {} e tenho {} anos\".format(self.nome, self.idade))\n",
    "        "
   ]
  },
  {
   "cell_type": "code",
   "execution_count": 13,
   "metadata": {},
   "outputs": [
    {
     "name": "stdout",
     "output_type": "stream",
     "text": [
      "Qual é o seu nome?Rodrigo\n",
      "Qual é a sua idade?Oliveira\n",
      "constutor chamado com sucesso\n"
     ]
    }
   ],
   "source": [
    "Registro = Meu_objeto()"
   ]
  },
  {
   "cell_type": "code",
   "execution_count": 14,
   "metadata": {},
   "outputs": [
    {
     "name": "stdout",
     "output_type": "stream",
     "text": [
      "Olá meu nome é Rodrigo e tenho Oliveira anos\n"
     ]
    }
   ],
   "source": [
    "Registro.imprime()"
   ]
  },
  {
   "cell_type": "code",
   "execution_count": 15,
   "metadata": {
    "collapsed": true
   },
   "outputs": [],
   "source": [
    "# ex 2\n",
    "\n",
    "class Minha:\n",
    "    def __init__(self):\n",
    "        self.x = 0\n",
    "        self.y = 0\n",
    "        "
   ]
  },
  {
   "cell_type": "code",
   "execution_count": 16,
   "metadata": {
    "collapsed": true
   },
   "outputs": [],
   "source": [
    "meu = Minha()\n",
    "\n"
   ]
  },
  {
   "cell_type": "code",
   "execution_count": 17,
   "metadata": {},
   "outputs": [
    {
     "data": {
      "text/plain": [
       "0"
      ]
     },
     "execution_count": 17,
     "metadata": {},
     "output_type": "execute_result"
    }
   ],
   "source": [
    "meu.x"
   ]
  },
  {
   "cell_type": "code",
   "execution_count": 18,
   "metadata": {
    "collapsed": true
   },
   "outputs": [],
   "source": [
    "meu.x = 5"
   ]
  },
  {
   "cell_type": "code",
   "execution_count": 25,
   "metadata": {},
   "outputs": [
    {
     "name": "stdout",
     "output_type": "stream",
     "text": [
      "5 0\n"
     ]
    }
   ],
   "source": [
    "print(meu.x, meu.y"
   ]
  },
  {
   "cell_type": "code",
   "execution_count": 23,
   "metadata": {
    "collapsed": true
   },
   "outputs": [],
   "source": [
    "'''Explicação de passagem de parâmetro'''\n",
    "def um():\n",
    "    x = 1  #valor de x\n",
    "    print (x) # imprime x = 1\n",
    "    dois(x) # passa o valor 1 para a função dois()\n",
    "    print (x) #imprime x = 1\n",
    "    \n",
    "def dois(y): #supondo que se passe o valor 3 como parametro de Y\n",
    "    print (y) #imprime 3\n",
    "    y = 2 # novo valor de Y\n",
    "    print (y) #imprime 2\n"
   ]
  },
  {
   "cell_type": "code",
   "execution_count": 24,
   "metadata": {},
   "outputs": [
    {
     "data": {
      "text/plain": [
       "0"
      ]
     },
     "execution_count": 24,
     "metadata": {},
     "output_type": "execute_result"
    }
   ],
   "source": []
  },
  {
   "cell_type": "code",
   "execution_count": null,
   "metadata": {
    "collapsed": true
   },
   "outputs": [],
   "source": []
  }
 ],
 "metadata": {
  "kernelspec": {
   "display_name": "Python 3",
   "language": "python",
   "name": "python3"
  },
  "language_info": {
   "codemirror_mode": {
    "name": "ipython",
    "version": 3
   },
   "file_extension": ".py",
   "mimetype": "text/x-python",
   "name": "python",
   "nbconvert_exporter": "python",
   "pygments_lexer": "ipython3",
   "version": "3.6.3"
  }
 },
 "nbformat": 4,
 "nbformat_minor": 2
}
