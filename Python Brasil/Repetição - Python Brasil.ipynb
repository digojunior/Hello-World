{
 "cells": [
  {
   "cell_type": "markdown",
   "metadata": {},
   "source": [
    "Estrutura de Repetição:\n",
    "\n",
    "1.Faça um programa que peça uma nota, entre zero e dez. Mostre uma mensagem caso o valor seja inválido e continue pedindo até que o usuário informe um valor válido. \n",
    "\n",
    "2.Faça um programa que leia um nome de usuário e a sua senha e não aceite a senha igual ao nome do usuário, mostrando uma mensagem de erro e voltando a pedir as informações. \n",
    "\n",
    "3.Faça um programa que leia e valide as seguintes informações: a.Nome: maior que 3 caracteres; \n",
    "b.Idade: entre 0 e 150; \n",
    "c.Salário: maior que zero; \n",
    "d.Sexo: 'f' ou 'm'; \n",
    "e.Estado Civil: 's', 'c', 'v', 'd'; \n",
    "\n",
    "4.Supondo que a população de um país A seja da ordem de 80000 habitantes com uma taxa anual de crescimento de 3% e que a população de B seja 200000 habitantes com uma taxa de crescimento de 1.5%. Faça um programa que calcule e escreva o número de anos necessários para que a população do país A ultrapasse ou iguale a população do país B, mantidas as taxas de crescimento. \n",
    "\n",
    "5.Altere o programa anterior permitindo ao usuário informar as populações e as taxas de crescimento iniciais. Valide a entrada e permita repetir a operação. \n",
    "\n",
    "6.Faça um programa que imprima na tela os números de 1 a 20, um abaixo do outro. Depois modifique o programa para que ele mostre os números um ao lado do outro. \n",
    "\n",
    "7.Faça um programa que leia 5 números e informe o maior número. \n",
    "\n",
    "8.Faça um programa que leia 5 números e informe a soma e a média dos números. \n",
    "\n",
    "9.Faça um programa que imprima na tela apenas os números ímpares entre 1 e 50. \n",
    "\n",
    "10.Faça um programa que receba dois números inteiros e gere os números inteiros que estão no intervalo compreendido por eles. \n",
    "\n",
    "11.Altere o programa anterior para mostrar no final a soma dos números. \n",
    "\n",
    "12.Desenvolva um gerador de tabuada, capaz de gerar a tabuada de qualquer número inteiro entre 1 a 10. O usuário deve informar de qual numero ele deseja ver a tabuada. A saída deve ser conforme o exemplo abaixo: Tabuada de 5:\n",
    "5 X 1 = 5\n",
    "5 X 2 = 10\n",
    "...\n",
    "5 X 10 = 50\n",
    "\n",
    "13.Faça um programa que peça dois números, base e expoente, calcule e mostre o primeiro número elevado ao segundo número. Não utilize a função de potência da linguagem. \n",
    "\n",
    "14.Faça um programa que peça 10 números inteiros, calcule e mostre a quantidade de números pares e a quantidade de números impares. \n",
    "\n",
    "15.A série de Fibonacci é formada pela seqüência 1,1,2,3,5,8,13,21,34,55,... Faça um programa capaz de gerar a série até o n-ésimo termo. \n",
    "\n",
    "16.A série de Fibonacci é formada pela seqüência 0,1,1,2,3,5,8,13,21,34,55,... Faça um programa que gere a série até que o valor seja maior que 500. \n",
    "\n",
    "17.Faça um programa que calcule o fatorial de um número inteiro fornecido pelo usuário. Ex.: 5!=5.4.3.2.1=120 \n",
    "\n",
    "18.Faça um programa que, dado um conjunto de N números, determine o menor valor, o maior valor e a soma dos valores. \n",
    "\n",
    "19.Altere o programa anterior para que ele aceite apenas números entre 0 e 1000. \n",
    "\n",
    "20.Altere o programa de cálculo do fatorial, permitindo ao usuário calcular o fatorial várias vezes e limitando o fatorial a números inteiros positivos e menores que 16. \n",
    "\n",
    "21.Faça um programa que peça um número inteiro e determine se ele é ou não um número primo. Um número primo é aquele que é divisível somente por ele mesmo e por 1. \n",
    "\n",
    "22.Altere o programa de cálculo dos números primos, informando, caso o número não seja primo, por quais número ele é divisível. \n",
    "\n",
    "23.Faça um programa que mostre todos os primos entre 1 e N sendo N um número inteiro fornecido pelo usuário. O programa deverá mostrar também o número de divisões que ele executou para encontrar os números primos. Serão avaliados o funcionamento, o estilo e o número de testes (divisões) executados. \n",
    "\n",
    "24.Faça um programa que calcule o mostre a média aritmética de N notas. \n",
    "\n",
    "25.Faça um programa que peça para n pessoas a sua idade, ao final o programa devera verificar se a média de idade da turma varia entre 0 e 25,26 e 60 e maior que 60; e então, dizer se a turma é jovem, adulta ou idosa, conforme a média calculada. \n",
    "\n",
    "26.Numa eleição existem três candidatos. Faça um programa que peça o número total de eleitores. Peça para cada eleitor votar e ao final mostrar o número de votos de cada candidato. \n",
    "\n",
    "27.Faça um programa que calcule o número médio de alunos por turma. Para isto, peça a quantidade de turmas e a quantidade de alunos para cada turma. As turmas não podem ter mais de 40 alunos. \n",
    "\n",
    "28.Faça um programa que calcule o valor total investido por um colecionador em sua coleção de CDs e o valor médio gasto em cada um deles. O usuário deverá informar a quantidade de CDs e o valor para em cada um. \n",
    "\n",
    "29.O Sr. Manoel Joaquim possui uma grande loja de artigos de R$ 1,99, com cerca de 10 caixas. Para agilizar o cálculo de quanto cada cliente deve pagar ele desenvolveu um tabela que contém o número de itens que o cliente comprou e ao lado o valor da conta. \n",
    "Desta forma a atendente do caixa precisa apenas contar quantos itens o cliente está levando e olhar na tabela de preços. Você foi contratado para desenvolver o programa que monta esta tabela de preços, que conterá os preços de 1 até 50 produtos, conforme o exemplo abaixo: Lojas Quase Dois - Tabela de preços\n",
    "1 - R$ 1.99\n",
    "2 - R$ 3.98\n",
    "...\n",
    "50 - R$ 99.50\n",
    "\n",
    "30.O Sr. Manoel Joaquim acaba de adquirir uma panificadora e pretende implantar a metodologia da tabelinha, que já é um sucesso na sua loja de 1,99. Você foi contratado para desenvolver o programa que monta a tabela de preços de pães, de 1 até 50 pães, a partir do preço do pão informado pelo usuário, conforme o exemplo abaixo: Preço do pão: R$ 0.18\n",
    "Panificadora Pão de Ontem - Tabela de preços\n",
    "1 - R$ 0.18\n",
    "2 - R$ 0.36\n",
    "...\n",
    "50 - R$ 9.00\n",
    "\n",
    "31.O Sr. Manoel Joaquim expandiu seus negócios para além dos negócios de 1,99 e agora possui uma loja de conveniências. Faça um programa que implemente uma caixa registradora rudimentar. O programa deverá receber um número desconhecido de valores referentes aos preços das mercadorias. Um valor zero deve ser informado pelo operador para indicar o final da compra. O programa deve então mostrar o total da compra e perguntar o valor em dinheiro que o cliente forneceu, para então calcular e mostrar o valor do troco. Após esta operação, o programa deverá voltar ao ponto inicial, para registrar a próxima compra. A saída deve ser conforme o exemplo abaixo: Lojas Tabajara \n",
    "Produto 1: R$ 2.20\n",
    "Produto 2: R$ 5.80\n",
    "Produto 3: R$ 0\n",
    "Total: R$ 9.00\n",
    "Dinheiro: R$ 20.00\n",
    "Troco: R$ 11.00\n",
    "...\n",
    "\n",
    "32.Faça um programa que calcule o fatorial de um número inteiro fornecido pelo usuário. Ex.: 5!=5.4.3.2.1=120. A saída deve ser conforme o exemplo abaixo: Fatorial de: 5\n",
    "5! =  5 . 4 . 3 . 2 . 1 = 120\n",
    "\n",
    "33.O Departamento Estadual de Meteorologia lhe contratou para desenvolver um programa que leia as um conjunto indeterminado de temperaturas, e informe ao final a menor e a maior temperaturas informadas, bem como a média das temperaturas. \n",
    "\n",
    "34.Os números primos possuem várias aplicações dentro da Computação, por exemplo na Criptografia. Um número primo é aquele que é divisível apenas por um e por ele mesmo. Faça um programa que peça um número inteiro e determine se ele é ou não um número primo. \n",
    "\n",
    "35.Encontrar números primos é uma tarefa difícil. Faça um programa que gera uma lista dos números primos existentes entre 1 e um número inteiro informado pelo usuário. \n",
    "\n",
    "36.Desenvolva um programa que faça a tabuada de um número qualquer inteiro que será digitado pelo usuário, mas a tabuada não deve necessariamente iniciar em 1 e terminar em 10, o valor inicial e final devem ser informados também pelo usuário, conforme exemplo abaixo: Montar a tabuada de: 5\n",
    "Começar por: 4\n",
    "Terminar em: 7\n",
    "Vou montar a tabuada de 5 começando em 4 e terminando em 7:\n",
    "5 X 4 = 20\n",
    "5 X 5 = 25\n",
    "5 X 6 = 30\n",
    "5 X 7 = 35\n",
    "Obs: Você deve verificar se o usuário não digitou o final menor que o inicial. \n",
    "\n",
    "37.Uma academia deseja fazer um senso entre seus clientes para descobrir o mais alto, o mais baixo, a mais gordo e o mais magro, para isto você deve fazer um programa que pergunte a cada um dos clientes da academia seu código, sua altura e seu peso. O final da digitação de dados deve ser dada quando o usuário digitar 0 (zero) no campo código. Ao encerrar o programa também deve ser informados os códigos e valores do clente mais alto, do mais baixo, do mais gordo e do mais magro, além da média das alturas e dos pesos dos clientes \n",
    "\n",
    "38.Um funcionário de uma empresa recebe aumento salarial anualmente: Sabe-se que: a.Esse funcionário foi contratado em 1995, com salário inicial de R$ 1.000,00; \n",
    "b.Em 1996 recebeu aumento de 1,5% sobre seu salário inicial; \n",
    "c.A partir de 1997 (inclusive), os aumentos salariais sempre correspondem ao dobro do percentual do ano anterior. Faça um programa que determine o salário atual desse funcionário. Após concluir isto, altere o programa permitindo que o usuário digite o salário inicial do funcionário. \n",
    "\n",
    "39.Faça um programa que leia dez conjuntos de dois valores, o primeiro representando o número do aluno e o segundo representando a sua altura em centímetros. Encontre o aluno mais alto e o mais baixo. Mostre o número do aluno mais alto e o número do aluno mais baixo, junto com suas alturas. \n",
    "\n",
    "40.Foi feita uma estatística em cinco cidades brasileiras para coletar dados sobre acidentes de trânsito. Foram obtidos os seguintes dados: a.Código da cidade; \n",
    "b.Número de veículos de passeio (em 1999); \n",
    "c.Número de acidentes de trânsito com vítimas (em 1999). Deseja-se saber: \n",
    "d.Qual o maior e menor índice de acidentes de transito e a que cidade pertence; \n",
    "e.Qual a média de veículos nas cinco cidades juntas; \n",
    "f.Qual a média de acidentes de trânsito nas cidades com menos de 2.000 veículos de passeio. \n",
    "\n",
    "41.Faça um programa que receba o valor de uma dívida e mostre uma tabela com os seguintes dados: valor da dívida, valor dos juros, quantidade de parcelas e valor da parcela. Os juros e a quantidade de parcelas seguem a tabela abaixo: Quantidade de Parcelas  % de Juros sobre o valor inicial da dívida\n",
    "1       0\n",
    "3       10\n",
    "6       15\n",
    "9       20\n",
    "12      25\n",
    "Exemplo de saída do programa: Valor da Dívida Valor dos Juros Quantidade de Parcelas  Valor da Parcela\n",
    "R$ 1.000,00     0               1                       R$  1.000,00\n",
    "R$ 1.100,00     100             3                       R$    366,00\n",
    "R$ 1.150,00     150             6                       R$    191,67\n",
    "\n",
    "42.Faça um programa que leia uma quantidade indeterminada de números positivos e conte quantos deles estão nos seguintes intervalos: [0-25], [26-50], [51-75] e [76-100]. A entrada de dados deverá terminar quando for lido um número negativo. \n",
    "\n",
    "43.O cardápio de uma lanchonete é o seguinte: Especificação   Código  Preço\n",
    "Cachorro Quente 100     R$ 1,20\n",
    "Bauru Simples   101     R$ 1,30\n",
    "Bauru com ovo   102     R$ 1,50\n",
    "Hambúrguer      103     R$ 1,20\n",
    "Cheeseburguer   104     R$ 1,30\n",
    "Refrigerante    105     R$ 1,00\n",
    "Faça um programa que leia o código dos itens pedidos e as quantidades desejadas. Calcule e mostre o valor a ser pago por item (preço * quantidade) e o total geral do pedido. Considere que o cliente deve informar quando o pedido deve ser encerrado. \n",
    "\n",
    "44.Em uma eleição presidencial existem quatro candidatos. Os votos são informados por meio de código. Os códigos utilizados são: 1 , 2, 3, 4  - Votos para os respectivos candidatos \n",
    "(você deve montar a tabela ex: 1 - Jose/ 2- João/etc)\n",
    "5 - Voto Nulo\n",
    "6 - Voto em Branco\n",
    "Faça um programa que calcule e mostre: \n",
    "?O total de votos para cada candidato; \n",
    "?O total de votos nulos; \n",
    "?O total de votos em branco; \n",
    "?A percentagem de votos nulos sobre o total de votos; \n",
    "?A percentagem de votos em branco sobre o total de votos. Para finalizar o conjunto de votos tem-se o valor zero. \n",
    "\n",
    "45.Desenvolver um programa para verificar a nota do aluno em uma prova com 10 questões, o programa deve perguntar ao aluno a resposta de cada questão e ao final comparar com o gabarito da prova e assim calcular o total de acertos e a nota (atribuir 1 ponto por resposta certa). Após cada aluno utilizar o sistema deve ser feita uma pergunta se outro aluno vai utilizar o sistema. Após todos os alunos terem respondido informar: a.Maior e Menor Acerto; \n",
    "b.Total de Alunos que utilizaram o sistema; \n",
    "c.A Média das Notas da Turma. Gabarito da Prova:\n",
    "\n",
    "01 - A\n",
    "02 - B\n",
    "03 - C\n",
    "04 - D\n",
    "05 - E\n",
    "06 - E\n",
    "07 - D\n",
    "08 - C\n",
    "09 - B\n",
    "10 - A\n",
    "Após concluir isto você poderia incrementar o programa permitindo que o professor digite o gabarito da prova antes dos alunos usarem o programa. \n",
    "\n",
    "46.Em uma competição de salto em distância cada atleta tem direito a cinco saltos. No final da série de saltos de cada atleta, o melhor e o pior resultados são eliminados. O seu resultado fica sendo a média dos três valores restantes. Você deve fazer um programa que receba o nome e as cinco distâncias alcançadas pelo atleta em seus saltos e depois informe a média dos saltos conforme a descrição acima informada (retirar o melhor e o pior salto e depois calcular a média). Faça uso de uma lista para armazenar os saltos. Os saltos são informados na ordem da execução, portanto não são ordenados. O programa deve ser encerrado quando não for informado o nome do atleta. A saída do programa deve ser conforme o exemplo abaixo: Atleta: Rodrigo Curvêllo\n",
    "\n",
    "Primeiro Salto: 6.5 m\n",
    "Segundo Salto: 6.1 m\n",
    "Terceiro Salto: 6.2 m\n",
    "Quarto Salto: 5.4 m\n",
    "Quinto Salto: 5.3 m\n",
    "\n",
    "Melhor salto:  6.5 m\n",
    "Pior salto: 5.3 m\n",
    "Média dos demais saltos: 5.9 m\n",
    "\n",
    "Resultado final:\n",
    "Rodrigo Curvêllo: 5.9 m\n",
    "\n",
    "47.Em uma competição de ginástica, cada atleta recebe votos de sete jurados. A melhor e a pior nota são eliminadas. A sua nota fica sendo a média dos votos restantes. Você deve fazer um programa que receba o nome do ginasta e as notas dos sete jurados alcançadas pelo atleta em sua apresentação e depois informe a sua média, conforme a descrição acima informada (retirar o melhor e o pior salto e depois calcular a média com as notas restantes). As notas não são informados ordenadas. Um exemplo de saída do programa deve ser conforme o exemplo abaixo: Atleta: Aparecido Parente\n",
    "Nota: 9.9\n",
    "Nota: 7.5\n",
    "Nota: 9.5\n",
    "Nota: 8.5\n",
    "Nota: 9.0\n",
    "Nota: 8.5\n",
    "Nota: 9.7\n",
    "\n",
    "Resultado final:\n",
    "Atleta: Aparecido Parente\n",
    "Melhor nota: 9.9\n",
    "Pior nota: 7.5\n",
    "Média: 9,04\n",
    "\n",
    "48.Faça um programa que peça um numero inteiro positivo e em seguida mostre este numero invertido. Exemplo:   12376489\n",
    "  => 98467321\n",
    "\n",
    "49.Faça um programa que mostre os n termos da Série a seguir:   S = 1/1 + 2/3 + 3/5 + 4/7 + 5/9 + ... + n/m. \n",
    "Imprima no final a soma da série. \n",
    "\n",
    "50.Sendo H= 1 + 1/2 + 1/3 + 1/4 + ... + 1/N, Faça um programa que calcule o valor de H com N termos. \n",
    "\n",
    "51.Faça um programa que mostre os n termos da Série a seguir:   S = 1/1 + 2/3 + 3/5 + 4/7 + 5/9 + ... + n/m. \n",
    "Imprima no final a soma da série. \n",
    "\n"
   ]
  },
  {
   "cell_type": "code",
   "execution_count": null,
   "metadata": {
    "collapsed": true
   },
   "outputs": [],
   "source": [
    "'''1.Faça um programa que peça uma nota, entre zero e dez. \n",
    "Mostre uma mensagem caso o valor seja inválido e continue pedindo até que o usuário informe um valor válido. '''\n",
    "\n",
    "\n",
    "nota = -1\n",
    "while nota >10 or nota <0:\n",
    "    nota = float(input(\"Informe uma nota entre 0 e 10 \")) \n",
    "    if nota > 10 or nota < 0:\n",
    "        print(\"Nota invalida, informe um numero entre 0 e 10\")\n",
    "    else:\n",
    "        print(\"Voce teve nota\",\"%.0f\" %nota)\n"
   ]
  },
  {
   "cell_type": "code",
   "execution_count": null,
   "metadata": {
    "collapsed": true
   },
   "outputs": [],
   "source": [
    "'''2.Faça um programa que leia um nome de usuário e a sua senha e não aceite\n",
    "a senha igual ao nome do usuário, mostrando uma mensagem de erro e voltando a pedir as informações.'''\n",
    "\n",
    "\n",
    "import getpass\n",
    "\n",
    "usuario = \"\"\n",
    "senha = \"\"\n",
    "while usuario == senha:\n",
    "    usuario = input(\"Digite seu usuario\")\n",
    "    senha = getpass.getpass(\"Digite sua senha: \")\n",
    "    if  usuario == senha:\n",
    "        print(\"Dados invalidos, você digitou usuario e senhas iguais\")\n",
    "    else:\n",
    "        print(\"Usuario criado\")"
   ]
  },
  {
   "cell_type": "code",
   "execution_count": 21,
   "metadata": {
    "collapsed": true
   },
   "outputs": [],
   "source": [
    "'''3.Faça um programa que leia e valide as seguintes informações:\n",
    "a.Nome: maior que 3 caracteres; \n",
    "b.Idade: entre 0 e 150; \n",
    "c.Salário: maior que zero; \n",
    "d.Sexo: 'f' ou 'm'; \n",
    "e.Estado Civil: 's', 'c', 'v', 'd';   '''\n",
    "\n",
    "\n",
    "def valida_informações():\n",
    "    print('Por favor preencha seus dados pessoais para cadastro')\n",
    "    nome = ''\n",
    "    while len(nome)<=3:\n",
    "        nome = input(\"Informe seu nome: \")\n",
    "        if len(nome)<=3:\n",
    "            print(\"Voce digitou menos que 3 letras, por favor digite novamente\")\n",
    "        \n",
    "    idade = -1\n",
    "    while idade <0 or idade>150:\n",
    "        idade = int(input(\"Informe sua idade: \"))\n",
    "        if idade <0 or idade>150:\n",
    "            print(\"Você digitou uma idade impossivel, por favor digite novamente\")\n",
    "            \n",
    "    salario = 0\n",
    "    while salario <= 0:\n",
    "        salario = float(input(\"Informe seu salario atual: \"))\n",
    "        if salario <= 0:\n",
    "            print(\"Você digitou um salario não permitido, por favor digite novamente\")\n",
    "    \n",
    "    sexo = 'g'\n",
    "    while (sexo!= 'M' and sexo !='F'):\n",
    "        sexo = input(\"Informe sexo M - Masculino e F - Feminino \").upper()\n",
    "        if (sexo!= 'M' and sexo !='F'):\n",
    "            print(\"Por favor digite F ou M\")\n",
    "    \n",
    "    estado_civil = 'g'\n",
    "    while ('SCVD'.find(estado_civil) < 0):\n",
    "        estado_civil = input('Informe o estado civil: ').upper()\n",
    "        if ('SCVD'.find(estado_civil) < 0):\n",
    "            print('Estado civil deve ser informado como S (solteiro), C (casado),'\\\n",
    "                ' V (viuvo) ou D (divorciado)')\n",
    "\n",
    "    print(nome, idade, salario, sexo, estado_civil)\n",
    "\n"
   ]
  },
  {
   "cell_type": "code",
   "execution_count": 7,
   "metadata": {},
   "outputs": [
    {
     "name": "stdout",
     "output_type": "stream",
     "text": [
      "Serao necessarios 64 anos para que a populacao do pais A ultrapasse a populacao do pais B\n"
     ]
    }
   ],
   "source": [
    "'''4.Supondo que a população de um país A seja da ordem de 80000 habitantes com uma taxa anual de crescimento de 3%\n",
    "e que a população de B seja 200000 habitantes com uma taxa de crescimento de 1.5%.\n",
    "Faça um programa que calcule e escreva o número de anos necessários para que a população do país\n",
    "A ultrapasse ou iguale a população do país B, mantidas as taxas de crescimento. '''\n",
    "\n",
    "\n",
    "A = 80000\n",
    "cres_A = 1.03\n",
    "B = 200000\n",
    "cres_B = 1.015\n",
    "\n",
    "# Realiza calculo de anos\n",
    "ano = 1\n",
    "while (A <= B):\n",
    "    A *= cres_A\n",
    "    B *= cres_B\n",
    "    ano += 1\n",
    "\n",
    "# Imprime o resultado\n",
    "print ('Serao necessarios', ano, 'anos para que a populacao do pais A'\\\n",
    "    ' ultrapasse a populacao do pais B')\n",
    "\n",
    "\n"
   ]
  },
  {
   "cell_type": "code",
   "execution_count": 1,
   "metadata": {},
   "outputs": [
    {
     "name": "stdout",
     "output_type": "stream",
     "text": [
      "Informe a população A: 20000\n",
      "Informe a taxa de crescimento: 1.5\n",
      "Informe a população B: 80000\n",
      "Informe a taxa de crecimento B: 1.0\n",
      "Serao necessarios 5 anos para que a populacao do pais A ultrapasse a populacao do pais B\n"
     ]
    }
   ],
   "source": [
    "'''5.Altere o programa anterior permitindo ao usuário informar as populações e as taxas de crescimento iniciais.\n",
    "Valide a entrada e permita repetir a operação'''\n",
    "\n",
    "\n",
    "A = float(input(\"Informe a população A: \"))\n",
    "cres_A = float(input(\"Informe a taxa de crescimento: \"))\n",
    "B = float(input(\"Informe a população B: \"))\n",
    "cres_B = float(input(\"Informe a taxa de crecimento B: \"))\n",
    "\n",
    "# Realiza calculo de anos\n",
    "ano = 1\n",
    "while (A <= B):\n",
    "    A *= cres_A\n",
    "    B *= cres_B\n",
    "    ano += 1\n",
    "\n",
    "# Imprime o resultado\n",
    "print ('Serao necessarios', ano, 'anos para que a populacao do pais A'\\\n",
    "    ' ultrapasse a populacao do pais B')\n",
    "\n",
    "\n"
   ]
  },
  {
   "cell_type": "code",
   "execution_count": 11,
   "metadata": {},
   "outputs": [
    {
     "name": "stdout",
     "output_type": "stream",
     "text": [
      "1 2 3 4 5 6 7 8 9 10 11 12 13 14 15 16 17 18 19 "
     ]
    }
   ],
   "source": [
    "'''6.Faça um programa que imprima na tela os números de 1 a 20, um abaixo do outro.\n",
    "Depois modifique o programa para que ele mostre os números um ao lado do outro.'''\n",
    "\n",
    "for num in range(1,20):\n",
    "    print(num, end =' ')"
   ]
  },
  {
   "cell_type": "code",
   "execution_count": 4,
   "metadata": {
    "scrolled": true
   },
   "outputs": [
    {
     "name": "stdout",
     "output_type": "stream",
     "text": [
      "Digite o número: 1\n",
      "Digite o número: 2\n",
      "Digite o número: 3\n",
      "Digite o número: 8\n",
      "Digite o número: 5\n",
      "O maior número da lista é:  8\n"
     ]
    }
   ],
   "source": [
    "'''7.Faça um programa que leia 5 números e informe o maior número.'''\n",
    "contador = 1\n",
    "lista = []\n",
    "while contador<=5:\n",
    "    n = int(input('Digite o número: '))\n",
    "    contador = contador+1\n",
    "    lista.append(n)\n",
    "\n",
    "print ('O maior número da lista é: ',max(lista)) \n",
    "    \n",
    "    \n"
   ]
  },
  {
   "cell_type": "code",
   "execution_count": 13,
   "metadata": {},
   "outputs": [
    {
     "name": "stdout",
     "output_type": "stream",
     "text": [
      "Digite o número: 1\n",
      "A soma dos numeros da lista é:  1 e a média é  1\n",
      "Digite o número: 2\n",
      "A soma dos numeros da lista é:  3 e a média é  1.5\n",
      "Digite o número: 3\n",
      "A soma dos numeros da lista é:  6 e a média é  2\n",
      "Digite o número: 4\n",
      "A soma dos numeros da lista é:  10 e a média é  2.5\n",
      "Digite o número: 5\n",
      "A soma dos numeros da lista é:  15 e a média é  3\n"
     ]
    }
   ],
   "source": [
    "'''8.Faça um programa que leia 5 números e informe a soma e a média dos números.'''\n",
    "from statistics import mean\n",
    "contador = 1\n",
    "lista = []\n",
    "\n",
    "while contador<=5:\n",
    "    n = int(input('Digite o número: '))\n",
    "    contador = contador+1\n",
    "    lista.append(n)\n",
    "\n",
    "media = statistics.mean(lista)    \n",
    "print ('A soma dos numeros da lista é: ',sum(lista), 'e a média é ', media) \n",
    "\n",
    "\n",
    "\n"
   ]
  },
  {
   "cell_type": "code",
   "execution_count": 19,
   "metadata": {},
   "outputs": [
    {
     "name": "stdout",
     "output_type": "stream",
     "text": [
      "1 3 5 7 9 11 13 15 17 19 21 23 25 27 29 31 33 35 37 39 41 43 45 47 49 "
     ]
    }
   ],
   "source": [
    "'''9.Faça um programa que imprima na tela apenas os números ímpares entre 1 e 50.'''\n",
    "for num in range(1,50):\n",
    "    if num % 2 != 0:\n",
    "        print (num, end = ' ')\n",
    "    else:\n",
    "        continue"
   ]
  },
  {
   "cell_type": "code",
   "execution_count": 22,
   "metadata": {},
   "outputs": [
    {
     "name": "stdout",
     "output_type": "stream",
     "text": [
      "Informe um numero 1\n",
      "Informe o segundo numero 100\n",
      "1 2 3 4 5 6 7 8 9 10 11 12 13 14 15 16 17 18 19 20 21 22 23 24 25 26 27 28 29 30 31 32 33 34 35 36 37 38 39 40 41 42 43 44 45 46 47 48 49 50 51 52 53 54 55 56 57 58 59 60 61 62 63 64 65 66 67 68 69 70 71 72 73 74 75 76 77 78 79 80 81 82 83 84 85 86 87 88 89 90 91 92 93 94 95 96 97 98 99 "
     ]
    }
   ],
   "source": [
    "'''10.Faça um programa que receba dois números inteiros e gere os números inteiros que estão no intervalo\n",
    "compreendido por eles.'''\n",
    "a = int(input('Informe um numero '))\n",
    "b = int(input('Informe o segundo numero '))\n",
    "for num in range(a,b):\n",
    "    print(num, end =' ')"
   ]
  },
  {
   "cell_type": "code",
   "execution_count": 62,
   "metadata": {},
   "outputs": [
    {
     "name": "stdout",
     "output_type": "stream",
     "text": [
      "Informe um numero 1\n",
      "Informe o segundo numero 3\n",
      "Os numeros em grupo são [1, 2] e a soma dos elementos é 3\n"
     ]
    }
   ],
   "source": [
    "'''11.Altere o programa anterior para mostrar no final a soma dos números.'''\n",
    "a = int(input('Informe um numero '))\n",
    "b = int(input('Informe o segundo numero '))\n",
    "\n",
    "for num in range(a,b):\n",
    "    lista = list(range(a,b))\n",
    "    print(\"Os numeros em grupo são\",lista,'e a soma dos elementos é', sum(lista))\n",
    "    break\n",
    "    \n",
    "    \n"
   ]
  },
  {
   "cell_type": "code",
   "execution_count": 3,
   "metadata": {},
   "outputs": [
    {
     "name": "stdout",
     "output_type": "stream",
     "text": [
      "Informe um número de 1 a 10 que será informada a tabuada: 5\n",
      "a tabuada de  5 x 1 é 5\n",
      "a tabuada de  5 x 2 é 10\n",
      "a tabuada de  5 x 3 é 15\n",
      "a tabuada de  5 x 4 é 20\n",
      "a tabuada de  5 x 5 é 25\n",
      "a tabuada de  5 x 6 é 30\n",
      "a tabuada de  5 x 7 é 35\n",
      "a tabuada de  5 x 8 é 40\n",
      "a tabuada de  5 x 9 é 45\n",
      "a tabuada de  5 x 10 é 50\n"
     ]
    }
   ],
   "source": [
    "'''12.Desenvolva um gerador de tabuada, capaz de gerar a tabuada de qualquer número inteiro entre 1 a 10.\n",
    "O usuário deve informar de qual numero ele deseja ver a tabuada. A saída deve ser conforme o exemplo abaixo: \n",
    "Tabuada de 5: 5 X 1 = 5 5 X 2 = 10 ... 5 X 10 = 50'''\n",
    "\n",
    "tabuada = int(input('Informe um número de 1 a 10 que será informada a tabuada: '))\n",
    "\n",
    "for num in range(1,11):\n",
    "    resultado = tabuada * num\n",
    "    print(\"a tabuada de \", tabuada, \"x\",num , \"é\", resultado)\n"
   ]
  },
  {
   "cell_type": "code",
   "execution_count": 25,
   "metadata": {},
   "outputs": [
    {
     "name": "stdout",
     "output_type": "stream",
     "text": [
      "Informe a base 2\n",
      "Informe o expoente 0\n",
      "expoente invalido por favor digite novamente\n",
      "Informe o expoente 1\n",
      "o resultado do calculo é 2 expoente 1 resultado 2\n"
     ]
    }
   ],
   "source": [
    "'''13.Faça um programa que peça dois números, base e expoente, calcule e mostre o primeiro número elevado ao segundo número.\n",
    "Não utilize a função de potência da linguagem.'''\n",
    "\n",
    "base = int(input('Informe a base '))\n",
    "exp = 0\n",
    "potencia = 1\n",
    "while exp <= 0: \n",
    "    exp = int(input('Informe o expoente '))\n",
    "    if exp <= 0: \n",
    "        print(\"expoente invalido por favor digite novamente\")\n",
    "\n",
    "    else:\n",
    "        for num in range(1, exp + 1):\n",
    "            potencia = potencia * base\n",
    "        print(\"o resultado do calculo é\", base,  \"expoente\", exp, \"resultado\", potencia)"
   ]
  },
  {
   "cell_type": "code",
   "execution_count": 62,
   "metadata": {},
   "outputs": [
    {
     "name": "stdout",
     "output_type": "stream",
     "text": [
      "Número: 1\n",
      "Número: 2\n",
      "Número: 3\n",
      "Número: 4\n",
      "Número: 5\n",
      "Número: 6\n",
      "Número: 7\n",
      "Número: 8\n",
      "Número: 10\n",
      "Número: 5\n",
      "Pares 5\n",
      "Impares 5\n"
     ]
    }
   ],
   "source": [
    "'''14.Faça um programa que peça 10 números inteiros, calcule e mostre a quantidade de números pares \n",
    "e a quantidade de números impares.'''\n",
    "\n",
    "\n",
    "par = 0\n",
    "impar = 0\n",
    "for num in range(1,11):\n",
    "    parimpar = (int(input(\"Número: \")))\n",
    "    if parimpar % 2 == 0:\n",
    "        par += 1\n",
    "    else:\n",
    "        impar += 1\n",
    "print(\"Pares\", par)\n",
    "print(\"Impares\", impar)\n",
    "        \n"
   ]
  },
  {
   "cell_type": "code",
   "execution_count": 88,
   "metadata": {},
   "outputs": [
    {
     "name": "stdout",
     "output_type": "stream",
     "text": [
      "Número: 1\n",
      "Número: 2\n",
      "Número: 3\n",
      "Número: 4\n",
      "Número: 5\n",
      "Número: \n"
     ]
    },
    {
     "ename": "ValueError",
     "evalue": "invalid literal for int() with base 10: ''",
     "output_type": "error",
     "traceback": [
      "\u001b[0;31m---------------------------------------------------------------------------\u001b[0m",
      "\u001b[0;31mValueError\u001b[0m                                Traceback (most recent call last)",
      "\u001b[0;32m<ipython-input-88-5e427cfd119c>\u001b[0m in \u001b[0;36m<module>\u001b[0;34m()\u001b[0m\n\u001b[1;32m      6\u001b[0m \u001b[0;32mfor\u001b[0m \u001b[0mnum\u001b[0m \u001b[0;32min\u001b[0m \u001b[0mrange\u001b[0m\u001b[0;34m(\u001b[0m\u001b[0;36m1\u001b[0m\u001b[0;34m,\u001b[0m\u001b[0;36m11\u001b[0m\u001b[0;34m)\u001b[0m\u001b[0;34m:\u001b[0m\u001b[0;34m\u001b[0m\u001b[0m\n\u001b[1;32m      7\u001b[0m \u001b[0;34m\u001b[0m\u001b[0m\n\u001b[0;32m----> 8\u001b[0;31m     \u001b[0mnumeros\u001b[0m \u001b[0;34m=\u001b[0m \u001b[0;34m(\u001b[0m\u001b[0mint\u001b[0m\u001b[0;34m(\u001b[0m\u001b[0minput\u001b[0m\u001b[0;34m(\u001b[0m\u001b[0;34m\"Número: \"\u001b[0m\u001b[0;34m)\u001b[0m\u001b[0;34m)\u001b[0m\u001b[0;34m)\u001b[0m\u001b[0;34m\u001b[0m\u001b[0m\n\u001b[0m\u001b[1;32m      9\u001b[0m     \u001b[0mlista\u001b[0m\u001b[0;34m.\u001b[0m\u001b[0mappend\u001b[0m\u001b[0;34m(\u001b[0m\u001b[0mnumeros\u001b[0m\u001b[0;34m)\u001b[0m\u001b[0;34m\u001b[0m\u001b[0m\n\u001b[1;32m     10\u001b[0m \u001b[0;34m\u001b[0m\u001b[0m\n",
      "\u001b[0;31mValueError\u001b[0m: invalid literal for int() with base 10: ''"
     ]
    }
   ],
   "source": [
    "# Variação do exercicio 14 mostando os números e trabalhando com listas\n",
    "\n",
    "lista = []\n",
    "par = []\n",
    "impar = []\n",
    "for num in range(1,11):\n",
    "    \n",
    "    numeros = (int(input(\"Número: \")))\n",
    "    lista.append(numeros)\n",
    "    \n",
    "    if (num % 2) == 0:\n",
    "        par.append(numeros)\n",
    "    else:\n",
    "        impar.append(numeros)\n",
    "        \n",
    "\n",
    "        \n",
    "print(par)\n",
    "print(impar)\n",
    "print(lista)\n",
    "        \n",
    "    \n",
    "\n"
   ]
  },
  {
   "cell_type": "code",
   "execution_count": 58,
   "metadata": {},
   "outputs": [
    {
     "name": "stdout",
     "output_type": "stream",
     "text": [
      "None\n"
     ]
    }
   ],
   "source": [
    "numeros = []\n",
    "for i in range(20):\n",
    "    if i % 2 == 0:\n",
    "        par = numeros.append(i+1)\n",
    "    else:\n",
    "        impar = numeros.append(i+1)\n",
    "print(par)"
   ]
  }
 ],
 "metadata": {
  "kernelspec": {
   "display_name": "Python 3",
   "language": "python",
   "name": "python3"
  },
  "language_info": {
   "codemirror_mode": {
    "name": "ipython",
    "version": 3
   },
   "file_extension": ".py",
   "mimetype": "text/x-python",
   "name": "python",
   "nbconvert_exporter": "python",
   "pygments_lexer": "ipython3",
   "version": "3.6.3"
  }
 },
 "nbformat": 4,
 "nbformat_minor": 2
}
