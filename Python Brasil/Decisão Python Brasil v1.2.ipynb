{
 "cells": [
  {
   "cell_type": "markdown",
   "metadata": {},
   "source": [
    "1. Faça um Programa que peça dois números e imprima o maior deles. \n",
    "2. Faça um Programa que peça um valor e mostre na tela se o valor é positivo ou negativo. \n",
    "3. Faça um Programa que verifique se uma letra digitada é \"F\" ou \"M\". Conforme a letra escrever: F - Feminino, M - Masculino, Sexo Inválido. \n",
    "4. Faça um Programa que verifique se uma letra digitada é vogal ou consoante. \n",
    "5. Faça um programa para a leitura de duas notas parciais de um aluno. O programa deve calcular a média alcançada por aluno e apresentar: \n",
    "A mensagem \"Aprovado\", se a média alcançada for maior ou igual a sete; \n",
    "A mensagem \"Reprovado\", se a média for menor do que sete; \n",
    "A mensagem \"Aprovado com Distinção\", se a média for igual a dez. \n",
    "6. Faça um Programa que leia três números e mostre o maior deles. \n",
    "7. Faça um Programa que leia três números e mostre o maior e o menor deles. \n",
    "8. Faça um programa que pergunte o preço de três produtos e informe qual produto você deve comprar, sabendo que a decisão é sempre pelo mais barato. \n",
    "9. Faça um Programa que leia três números e mostre-os em ordem decrescente. \n",
    "10. Faça um Programa que pergunte em que turno você estuda. Peça para digitar M-matutino ou V-Vespertino ou N- Noturno. Imprima a mensagem \"Bom Dia!\", \"Boa Tarde!\" ou \"Boa Noite!\" ou \"Valor Inválido!\", conforme o caso. \n",
    "11. As Organizações Tabajara resolveram dar um aumento de salário aos seus colaboradores e lhe contraram para desenvolver o programa que calculará os reajustes. \n",
    "Faça um programa que recebe o salário de um colaborador e o reajuste segundo o seguinte critério, baseado no salário atual: \n",
    "salários até R$ 280,00 (incluindo) : aumento de 20% \n",
    "salários entre R$ 280,00 e R$ 700,00 : aumento de 15% \n",
    "salários entre R$ 700,00 e R$ 1500,00 : aumento de 10% \n",
    "salários de R$ 1500,00 em diante : aumento de 5% Após o aumento ser realizado, informe na tela: \n",
    "o salário antes do reajuste; \n",
    "o percentual de aumento aplicado; \n",
    "o valor do aumento; \n",
    "o novo salário, após o aumento. \n",
    "12. Faça um programa para o cálculo de uma folha de pagamento, sabendo que os descontos são do Imposto de Renda, que depende do salário bruto (conforme tabela abaixo) e 3% para o Sindicato e que o FGTS corresponde a 11% do Salário Bruto, mas não é descontado (é a empresa que deposita). O Salário Líquido corresponde ao Salário Bruto menos os descontos. O programa deverá pedir ao usuário o valor da sua hora e a quantidade de horas trabalhadas no mês. \n",
    "Desconto do IR: \n",
    "Salário Bruto até 900 (inclusive) - isento \n",
    "Salário Bruto até 1500 (inclusive) - desconto de 5% \n",
    "Salário Bruto até 2500 (inclusive) - desconto de 10% \n",
    "Salário Bruto acima de 2500 - desconto de 20% Imprima na tela as informações, dispostas conforme o exemplo abaixo. No exemplo o valor da hora é 5 e a quantidade de hora é 220. \n",
    "\n",
    "Salário Bruto: (5 *\n",
    "(-) IR (5%)\n",
    "(-) INSS ( 10%)\n",
    "FGTS (11%)\n",
    "Total de descontos\n",
    "Salário Liquido\n",
    "\n",
    "13. Faça um Programa que leia um número e exiba o dia correspondente da semana. (1-Domingo, 2- Segunda, etc.), se digitar outro valor deve aparecer valor inválido. \n",
    "14. Faça um programa que lê as duas notas parciais obtidas por um aluno numa disciplina ao longo de um semestre, e calcule a sua média. A atribuição de conceitos obedece à tabela abaixo: \n",
    "\n",
    "Média\n",
    "Entre\n",
    "Entre\n",
    "Entre\n",
    "Entre\n",
    "Entre\n",
    "\n",
    "O algoritmo deve mostrar na tela as notas, a média, o conceito correspondente e a mensagem “APROVADO” se o conceito for A, B ou C ou “REPROVADO” se o conceito for D ou E. \n",
    "15. Faça um Programa que peça os 3 lados de um triângulo. O programa deverá informar se os valores podem ser um triângulo. Indique, caso os lados formem um triângulo, se o mesmo é: equilátero, isósceles ou escaleno. \n",
    "Dicas: \n",
    "Três lados formam um triângulo quando a soma de quaisquer dois lados for maior que o terceiro; \n",
    "Triângulo Equilátero: três lados iguais; \n",
    "Triângulo Isósceles: quaisquer dois lados iguais; \n",
    "Triângulo Escaleno: três lados diferentes; \n",
    "16. Faça um programa que calcule as raízes de uma equação do segundo grau, na forma ax2 + bx + c. O programa deverá pedir os valores de a, b e c e fazer as consistências, informando ao usuário nas seguintes situações: \n",
    "a. Se o usuário informar o valor de A igual a zero, a equação não é do segundo grau e o programa não deve fazer pedir os demais valores, sendo encerrado; \n",
    "b. Se o delta calculado for negativo, a equação não possui raizes reais. Informe ao usuário e encerre o programa; \n",
    "c. Se o delta calculado for igual a zero a equação possui apenas uma raiz real; informe-a ao usuário; \n",
    "d. Se o delta for positivo, a equação possui duas raiz reais; informe-as ao usuário; \n",
    "17. Faça um Programa que peça um número correspondente a um determinado ano e em seguida informe se este ano é ou não bissexto. \n",
    "18. Faça um Programa que peça uma data no formato dd/mm/aaaa e determine se a mesma é uma data válida. \n",
    "19. Faça um Programa que leia um número inteiro menor que 1000 e imprima a quantidade de centenas, dezenas e unidades do mesmo. \n",
    "Observando os termos no plural a colocação do \"e\", da vírgula entre outros. Exemplo: \n",
    "326 = 3 centenas, 2 dezenas e 6 unidades \n",
    "12 = 1 dezena e 2 unidades Testar com: 326, 300, 100, 320, 310,305, 301, 101, 311, 111, 25, 20, 10, 21, 11, 1, 7 e 16 \n",
    "20. Faça um Programa para leitura de três notas parciais de um aluno. O programa deve calcular a média alcançada por aluno e presentar: \n",
    "a. A mensagem \"Aprovado\", se a média for maior ou igual a 7, com a respectiva média alcançada; \n",
    "b. A mensagem \"Reprovado\", se a média for menor do que 7, com a respectiva média alcançada; \n",
    "c. A mensagem \"Aprovado com Distinção\", se a média for igual a 10. \n",
    "21. Faça um Programa para um caixa eletrônico. O programa deverá perguntar ao usuário a valor do saque e depois informar quantas notas de cada valor serão fornecidas. As notas disponíveis serão as de 1, 5, 10, 50 e 100 reais. O valor mínimo é de 10 reais e o máximo de 600 reais. O programa não deve se preocupar com a quantidade de notas existentes na máquina. \n",
    "a. Exemplo 1: Para sacar a quantia de 256 reais, o programa fornece duas notas de 100, uma nota de 50, uma nota de 5 e uma nota de 1; \n",
    "b. Exemplo 2: Para sacar a quantia de 399 reais, o programa fornece três notas de 100, uma nota de 50, quatro notas de 10, uma nota de 5 e quatro notas de 1. \n",
    "22. Faça um Programa que peça um número inteiro e determine se ele é par ou impar. Dica: utilize o operador módulo (resto da divisão). \n",
    "23. Faça um Programa que peça um número e informe se o número é inteiro ou decimal. Dica: utilize uma função de arredondamento. \n",
    "24. Faça um Programa que leia 2 números e em seguida pergunte ao usuário qual operação ele deseja realizar. O resultado da operação deve ser acompanhado de uma frase que diga se o número é: \n",
    "a. par ou ímpar; \n",
    "b. positivo ou negativo; \n",
    "c. inteiro ou decimal. \n",
    "25. Faça um programa que faça 5 perguntas para uma pessoa sobre um crime. As perguntas são: \n",
    "a. \"Telefonou para a vítima?\" \n",
    "b. \"Esteve no local do crime?\" \n",
    "c. \"Mora perto da vítima?\" \n",
    "d. \"Devia para a vítima?\" \n",
    "e. \"Já trabalhou com a vítima?\" O programa deve no final emitir uma classificação sobre a participação da pessoa no crime. Se a pessoa responder positivamente a 2 questões ela deve ser classificada como \"Suspeita\", entre 3 e 4 como \"Cúmplice\" e 5 como \"Assassino\". Caso contrário, ele será classificado como \"Inocente\". \n",
    "26. Um posto está vendendo combustíveis com a seguinte tabela de descontos: \n",
    "a. Álcool: \n",
    "b. até 20 litros, desconto de 3% por litro \n",
    "c. acima de 20 litros, desconto de 5% por litro \n",
    "d. Gasolina: \n",
    "e. até 20 litros, desconto de 4% por litro \n",
    "f. acima de 20 litros, desconto de 6% por litro. \n",
    "Escreva um algoritmo que leia o número de litros vendidos, o tipo de combustível (codificado da seguinte forma: A-álcool, G- gasolina), calcule e imprima o valor a ser pago pelo cliente sabendo-se que o preço do litro da gasolina é R$ 2,50 o preço do litro do álcool é R$ 1,90. \n",
    "27. Uma fruteira está vendendo frutas com a seguinte tabela de preços: \n",
    "Morango\n",
    "Maçã\n",
    "Se o cliente comprar mais de 8 Kg em frutas ou o valor total da compra ultrapassar R$ 25,00, receberá ainda um desconto de 10% sobre este total. Escreva um algoritmo para ler a quantidade (em Kg) de morangos e a quantidade (em Kg) de maças adquiridas e escreva o valor a ser pago pelo cliente. \n",
    "28. O Hipermercado Tabajara está com uma promoção de carnes que é imperdível. Confira: \n",
    "File Duplo\n",
    "Alcatra\n",
    "Picanha\n",
    "Para atender a todos os clientes, cada cliente poderá levar apenas um dos tipos de carne da promoção, porém não há limites para a quantidade de carne por cliente. Se compra for feita no cartão Tabajara o cliente receberá ainda um desconto de 5% sobre o total a compra. Escreva um programa que peça o tipo e a quantidade de carne comprada pelo usuário e gere um cupom fiscal, contendo as informações da compra: tipo e quantidade de carne, preço total, tipo de pagamento, valor do desconto e valor a pagar.\n"
   ]
  },
  {
   "cell_type": "code",
   "execution_count": null,
   "metadata": {
    "collapsed": true
   },
   "outputs": [],
   "source": [
    "#1. Faça um Programa que peça dois números e imprima o maior deles. \n",
    "a = int(input('Informe um número'))\n",
    "b = int(input('Informe outro número'))\n",
    "if(a>b):\n",
    "    print('O maior número foi ', a)\n",
    "elif(b>a):\n",
    "    print('O maior número foi ', b)\n",
    "else:\n",
    "    print('São iguais')"
   ]
  },
  {
   "cell_type": "code",
   "execution_count": null,
   "metadata": {
    "collapsed": true
   },
   "outputs": [],
   "source": [
    "#2. Faça um Programa que peça um valor e mostre na tela se o valor é positivo ou negativo. \n",
    "valor = int(input('Informe um valor para o programa verificar se é positivo ou negativo'))\n",
    "if valor <0:\n",
    "    print('Numero negativo')\n",
    "else:\n",
    "    print('Positivo')"
   ]
  },
  {
   "cell_type": "code",
   "execution_count": null,
   "metadata": {
    "collapsed": true
   },
   "outputs": [],
   "source": [
    "\"\"\"3. Faça um Programa que verifique se uma letra digitada é \"F\" ou \"M\".\n",
    "Conforme a letra escrever: F - Feminino, M - Masculino, Sexo Inválido.\"\"\"\n",
    "\n",
    "sexo = ''\n",
    "while not (sexo == 'M' or sexo == 'F'):\n",
    "    sexo = input('Informe uma letra informando seu sexo F ou M')      \n",
    "    if sexo == 'M':\n",
    "        print( 'Você é homem')\n",
    "    elif sexo == 'F':\n",
    "        print('Você é mulher')\n",
    "    else:\n",
    "        print('Por favor informe as letras corretas M ou F!!') \n",
    "    \n",
    "    "
   ]
  },
  {
   "cell_type": "code",
   "execution_count": null,
   "metadata": {
    "collapsed": true
   },
   "outputs": [],
   "source": [
    "#4. Faça um Programa que verifique se uma letra digitada é vogal ou consoante. \n",
    "\n",
    "letra = ''\n",
    "while (len(letra)>=2 or len(letra) == 0):\n",
    "     letra = input('Informe uma letra e o programa verifca se é vogal ou consoante ') \n",
    "    if(len(letra)>=2):\n",
    "        print('Você digitou mais de um caracter, por favor digite somente uma letra!!!')\n",
    "    elif ('AEIOU'.find(letra.upper())>=0): #verifica alem das minusculas as letras maiusculas\n",
    "        print('você digitou a vogal: ', letra)\n",
    "    else:\n",
    "        print('Você digitou a consoante: ', letra)\n",
    "   \n"
   ]
  },
  {
   "cell_type": "code",
   "execution_count": null,
   "metadata": {
    "collapsed": true
   },
   "outputs": [],
   "source": []
  },
  {
   "cell_type": "code",
   "execution_count": null,
   "metadata": {
    "collapsed": true
   },
   "outputs": [],
   "source": [
    "'''5. Faça um programa para a leitura de duas notas parciais de um aluno.\n",
    "O programa deve calcular a média alcançada por aluno e apresentar: \n",
    "\n",
    "A mensagem \"Aprovado\", se a média alcançada for maior ou igual a sete; \n",
    "A mensagem \"Reprovado\", se a média for menor do que sete; \n",
    "A mensagem \"Aprovado com Distinção\", se a média for igual a dez. '''\n",
    "\n",
    "nota1 = float(input('Informe a nota da N1'))\n",
    "nota2 = float(input('Informe a nota da N1'))\n",
    "media = (nota1+nota2) /2\n",
    "if (media == 10):\n",
    "    print('Aprovado por Distinção')\n",
    "elif media >= 7:\n",
    "    print('Aprovado')\n",
    "else:\n",
    "    print('Reprovado')"
   ]
  },
  {
   "cell_type": "code",
   "execution_count": null,
   "metadata": {
    "collapsed": true
   },
   "outputs": [],
   "source": [
    "#6. Faça um Programa que leia três números e mostre o maior deles. \n",
    "print('Informe 3 numeros que será mostrado o maior entre eles')\n",
    "num1 = float(input('Informe o 1º numero: '))\n",
    "num2 = float(input('Informe o 2º numero: '))\n",
    "num3 = float(input('Informe o 3º numero: '))\n",
    "if(num1> num2 and num1> num3):\n",
    "    print('O maior numero foi o ',num1)\n",
    "elif(num2> num1 and num2> num3):\n",
    "    print('O maior numero foi o ',num2)\n",
    "elif(num3> num1 and num3> num2):\n",
    "    print('O maior numero foi o ',\"%.0f\" %num3)\n"
   ]
  },
  {
   "cell_type": "code",
   "execution_count": null,
   "metadata": {
    "collapsed": true
   },
   "outputs": [],
   "source": [
    "'''7. Faça um Programa que leia três números e mostre o maior e o menor deles. '''\n",
    "print('Informe 3 numeros que será mostrado o maior entre eles')\n",
    "num1 = float(input('Informe o 1º numero: '))\n",
    "num2 = float(input('Informe o 2º numero: '))\n",
    "num3 = float(input('Informe o 3º numero: '))\n",
    "if(num1> num2 and num1> num3):\n",
    "    print('O maior numero foi o ',num1)\n",
    "elif(num2> num1 and num2> num3):\n",
    "    print('O maior numero foi o ',num2)\n",
    "elif(num3> num1 and num3> num2):\n",
    "    print('O maior numero foi o ',\"%.0f\" %num3)\n",
    "    if(num1< num2 and num1< num3):\n",
    "        print('O menor numero foi o ',num1)\n",
    "    elif(num2< num1 and num2< num3):\n",
    "        print('O menor numero foi o ',num2)\n",
    "    elif(num3< num1 and num3< num2):\n",
    "        print('O menor numero foi o ',\"%.0f\" %num3)"
   ]
  },
  {
   "cell_type": "code",
   "execution_count": null,
   "metadata": {
    "collapsed": true
   },
   "outputs": [],
   "source": [
    "'''8. Faça um programa que pergunte o preço de três produtos e informe qual produto você deve comprar, \n",
    "sabendo que a decisão é sempre pelo mais barato. '''\n",
    "\n",
    "print('Informe 3 numeros que será mostrado o maior entre eles')\n",
    "num1 = float(input('Informe o 1º numero: '))\n",
    "num2 = float(input('Informe o 2º numero: '))\n",
    "num3 = float(input('Informe o 3º numero: '))\n",
    "if(num1> num2 and num1> num3):\n",
    "    print('O maior numero foi o ',num1)\n",
    "elif(num2> num1 and num2> num3):\n",
    "    print('O maior numero foi o ',num2)\n",
    "elif(num3> num1 and num3> num2):\n",
    "    print('O maior numero foi o ',\"%.0f\" %num3)"
   ]
  },
  {
   "cell_type": "code",
   "execution_count": null,
   "metadata": {
    "collapsed": true
   },
   "outputs": [],
   "source": [
    "'''9. Faça um Programa que leia três números e mostre-os em ordem decrescente. '''\n",
    "num1 = int(input('Informe um numero'))\n",
    "num2 = int(input('Informe um numero'))\n",
    "num3 = int(input('Informe um numero'))\n",
    "\n",
    "lista = [num1,num2,num3]\n",
    "lista.sort(reverse = True)\n",
    "print('O maior numero foi',lista[0], 'Segundo', lista[1],'O menor foi', lista[2])"
   ]
  },
  {
   "cell_type": "code",
   "execution_count": null,
   "metadata": {
    "collapsed": true
   },
   "outputs": [],
   "source": [
    "'''10. Faça um Programa que pergunte em que turno você estuda. Peça para digitar M-matutino ou V-Vespertino ou N- Noturno.\n",
    "Imprima a mensagem \"Bom Dia!\", \"Boa Tarde!\" ou \"Boa Noite!\" ou \"Valor Inválido!\", conforme o caso. '''\n",
    "turno = ''\n",
    "\n",
    "while (len(turno)>=2 or len(turno) == 0):\n",
    "    turno = input('Informe o turno que você estuda: M-matutino ou V-Vespertino ou N- Noturno ')\n",
    "    if(len(turno)>=2 and turno != 'M' and turno != 'V' and turno != 'N'):\n",
    "        print('Você digitou caracter invalido, por favor digite M, V ou N !!!')\n",
    "    elif (turno == 'M'):\n",
    "        print('Bom dia!!')\n",
    "    elif (turno == 'V'):\n",
    "        print('Boa Tarde !!')\n",
    "    elif(turno == 'N'):\n",
    "        print('Boa noite!!')\n",
    "\n",
    "\n"
   ]
  },
  {
   "cell_type": "code",
   "execution_count": null,
   "metadata": {
    "collapsed": true
   },
   "outputs": [],
   "source": [
    "'''11. As Organizações Tabajara resolveram dar um aumento de salário aos seus colaboradores e lhe contraram para desenvolver\n",
    "o programa que calculará os reajustes. \n",
    "\n",
    "Faça um programa que recebe o salário de um colaborador e o reajuste segundo o seguinte critério, baseado no salário atual: \n",
    "salários até R$ 280,00 (incluindo) : aumento de 20% \n",
    "salários entre R$ 280,00 e R$ 700,00 : aumento de 15% \n",
    "salários entre R$ 700,00 e R$ 1500,00 : aumento de 10% \n",
    "salários de R$ 1500,00 em diante : aumento de 5% Após o aumento ser realizado, informe na tela: \n",
    "o salário antes do reajuste; \n",
    "o percentual de aumento aplicado; \n",
    "o valor do aumento; \n",
    "o novo salário, após o aumento. '''\n",
    "\n",
    "def calc_reajustes():\n",
    "    print('Informe seu salario que o programa informará o aumento devido')\n",
    "    salario = int(input('Informe seu salário para saber o total de reajuste : '))\n",
    "    if (salario <= 280):\n",
    "        percentual = 20\n",
    "    elif(salario > 280 and salario <= 700):\n",
    "        percentual = 15\n",
    "    elif(salario > 700 and salario <= 1500):\n",
    "        percentual = 10\n",
    "    elif(salario > 700 and salario <= 1500):\n",
    "        percentual = 10\n",
    "    else:\n",
    "        percentual = 5\n",
    "        \n",
    "        \n",
    "    reajuste = (salario*percentual) / 100\n",
    "    novo_salario = reajuste+salario    \n",
    "    print('Seu salario anterior era ', salario)\n",
    "    print('O percentual de aumento foi de', percentual,'%')\n",
    "    print('O seu salario foi aumentado em', reajuste)\n",
    "    print('Seu novo salario será', novo_salario )\n",
    "    \n",
    "        \n",
    "\n",
    "\n"
   ]
  },
  {
   "cell_type": "code",
   "execution_count": null,
   "metadata": {
    "collapsed": true
   },
   "outputs": [],
   "source": [
    "calc_reajustes()"
   ]
  },
  {
   "cell_type": "code",
   "execution_count": null,
   "metadata": {
    "collapsed": true
   },
   "outputs": [],
   "source": [
    "'''12. Faça um programa para o cálculo de uma folha de pagamento, sabendo que os descontos são do Imposto de Renda,\n",
    "que depende do salário bruto (conforme tabela abaixo) e 3% para o Sindicato e que o FGTS corresponde a 11% do Salário Bruto,\n",
    "mas não é descontado (é a empresa que deposita). O Salário Líquido corresponde ao Salário Bruto menos os descontos.\n",
    "O programa deverá pedir ao usuário o valor da sua hora e a quantidade de horas trabalhadas no mês. \n",
    "Desconto do IR: \n",
    "Salário Bruto até 900 (inclusive) - isento \n",
    "Salário Bruto até 1500 (inclusive) - desconto de 5% \n",
    "Salário Bruto até 2500 (inclusive) - desconto de 10% \n",
    "Salário Bruto acima de 2500 - desconto de 20% Imprima na tela as informações, dispostas conforme o exemplo abaixo.\n",
    "No exemplo o valor da hora é 5 e a quantidade de hora é 220. \n",
    "\n",
    "Salário Bruto: ()\n",
    "(-) IR (5%)\n",
    "(-) INSS ( 10%)\n",
    "FGTS (11%)\n",
    "Total de descontos\n",
    "Salário Liquido'''\n",
    "\n",
    "def salario_mes():\n",
    "    print('Faremos o calculo de sua folha de pagamento! \\n')\n",
    "    sal_hora = int(input('Informe salário por hora '))\n",
    "    hrs_trab = int(input('Informe horas trabalhadas '))\n",
    "    \n",
    "    sal_bruto = sal_hora * hrs_trab\n",
    "    \n",
    "    \n",
    "    if (sal_bruto <= 900):\n",
    "        desc_IR = 1 \n",
    "    elif (sal_bruto >900 and sal_bruto <= 1500):\n",
    "        desc_IR = 5\n",
    "    elif (sal_bruto >1500 and sal_bruto <= 2500):\n",
    "        desc_IR = 10\n",
    "    elif (sal_bruto >2500):\n",
    "        desc_IR = 20\n",
    "    \n",
    "    IR= (sal_bruto*desc_IR)/100\n",
    "    INSS=(sal_bruto*10)/100\n",
    "    FGTS= (sal_bruto*11)/100\n",
    "    sind = (sal_bruto*3)/100\n",
    "    total_desc = IR + INSS + FGTS + sind\n",
    "    sal_liq = sal_bruto - IR - INSS - FGTS - sind\n",
    "    \n",
    "    print('Salário Bruto: ', sal_bruto)\n",
    "    print('(-) IR', IR)\n",
    "    print('(-) INSS (10%) ', INSS)\n",
    "    print('FGTS (11%)', FGTS )\n",
    "    print('Total de descontos', total_desc)\n",
    "    print('Salário Liquido', sal_liq)\n",
    "    \n",
    "    \n",
    "\n",
    "\n"
   ]
  },
  {
   "cell_type": "code",
   "execution_count": null,
   "metadata": {
    "collapsed": true
   },
   "outputs": [],
   "source": [
    "salario_mes()"
   ]
  },
  {
   "cell_type": "code",
   "execution_count": null,
   "metadata": {
    "collapsed": true
   },
   "outputs": [],
   "source": [
    "'''13. Faça um Programa que leia um número e exiba o dia correspondente da semana. (1-Domingo, 2- Segunda, etc.), \n",
    "se digitar outro valor deve aparecer valor inválido. '''\n",
    "\n",
    "dia_semana = int(input('Informe o número do dia da semana que o programa imprimirá o dia'))\n",
    "\n",
    "if (dia_semana == 1):\n",
    "    print ('Domingo')\n",
    "elif (dia_semana == 2):\n",
    "    print ('Segunda')\n",
    "elif (dia_semana== 3):\n",
    "    print ('Terca')\n",
    "elif (dia_semana== 4):\n",
    "    print ('Quarta')\n",
    "elif (dia_semana== 5):\n",
    "    print ('Quinta')\n",
    "elif (dia_semana== 6):\n",
    "    print ('Sexta')\n",
    "elif (dia_semana== 7):\n",
    "    print ('Sabado')\n",
    "else:\n",
    "    print ('Valor invalido')\n",
    "\n"
   ]
  },
  {
   "cell_type": "code",
   "execution_count": null,
   "metadata": {
    "collapsed": true
   },
   "outputs": [],
   "source": [
    "'''14. Faça um programa que lê as duas notas parciais obtidas por um aluno numa disciplina ao longo de um semestre,\n",
    "e calcule a sua média. A atribuição de conceitos obedece à tabela abaixo: \n",
    "\n",
    "Média de Aproveitamento  Conceito\n",
    "Entre 9.0 e 10.0         A\n",
    "Entre 7.5 e 9.0          B\n",
    "Entre 6.0 e 7.5          C\n",
    "Entre 4.0 e 6.0          D\n",
    "Entre 4.0 e zero         E\n",
    "\n",
    "O algoritmo deve mostrar na tela as notas, a média, o conceito correspondente e a mensagem “APROVADO”\n",
    "se o conceito for A, B ou C ou “REPROVADO” se o conceito for D ou E. '''\n",
    "\n",
    "\n",
    "def calculo_notas():\n",
    "    print('Informe sua nota dos bimestres e será informado seu conceito no curso')\n",
    "    nota1 = float(input('Informe a 1ª nota '))\n",
    "    nota2 = float(input('Informe a 2ª nota '))\n",
    "    media = (nota1+nota2) /2.0\n",
    "    \n",
    "    if (media >=9 and media <=10):\n",
    "        Conceito = 'A'\n",
    "    elif (media >=7.5 and media < 9):\n",
    "        Conceito = 'B'\n",
    "    elif (media >=6 and media < 7.5):\n",
    "        Conceito = 'C'\n",
    "    elif (media >=4 and media < 6):\n",
    "        Conceito = 'D'\n",
    "    elif (media < 4):\n",
    "        Conceito = 'E'\n",
    "    \n",
    "    print('Sua notas foram em N1: ', nota1 )\n",
    "    print('Sua notas foramem N2: ', nota2 )\n",
    "    print('Sua media foi', media )\n",
    "    print('VocÊ ficou com conceito', Conceito)"
   ]
  },
  {
   "cell_type": "code",
   "execution_count": null,
   "metadata": {
    "collapsed": true
   },
   "outputs": [],
   "source": [
    "calculo_notas()"
   ]
  },
  {
   "cell_type": "code",
   "execution_count": null,
   "metadata": {
    "collapsed": true
   },
   "outputs": [],
   "source": [
    "'''15. Faça um Programa que peça os 3 lados de um triângulo. O programa deverá informar se os valores podem ser um triângulo.\n",
    "Indique, caso os lados formem um triângulo, se o mesmo é: equilátero, isósceles ou escaleno. \n",
    "Dicas: \n",
    "Três lados formam um triângulo quando a soma de quaisquer dois lados for maior que o terceiro; \n",
    "Triângulo Equilátero: três lados iguais; \n",
    "Triângulo Isósceles: quaisquer dois lados iguais; \n",
    "Triângulo Escaleno: três lados diferentes;''' \n",
    "#se um dos valores for maior do que a soma dos outros dois então não é um triangulo\n",
    "#equilatero: todos os lados iguais a==b==c\n",
    "#isoceles a==b or a ==c or b ==c\n",
    "# escaleno a!=b!=c no caso else\n",
    "\n",
    "print('Por favor informe os três lados de um triângulo')\n",
    "tri1 = int(input('Informe o 1º area do triangulo'))\n",
    "tri2 = int(input('Informe o 2º area do triangulo'))\n",
    "tri3 = int(input('Informe o 3º area do triangulo'))\n",
    "\n",
    "triangulo = ''\n",
    "if (tri1> tri2+tri3 or tri2> tri1+tri3 or tri3> tri1+tri2):\n",
    "    triangulo =False\n",
    "else:\n",
    "    triangulo = True\n",
    "'''verifica se é um triangulo'''\n",
    "\n",
    "    if (triangulo):\n",
    "        print ('Os valores formam um triangulo')\n",
    "        if(tri1 == tri2 == tri3):\n",
    "            print('É um triângulo equilatero')\n",
    "        elif(tri1 == tri2 or tri1 == tri3 or tri2 == tri3):\n",
    "            print('É um triangulo isoceles')\n",
    "        else:\n",
    "            print('É um triangulo escaleno')\n",
    "    else:\n",
    "        print('Não é um triângulo')\n",
    "        \n",
    "    \n"
   ]
  },
  {
   "cell_type": "code",
   "execution_count": null,
   "metadata": {
    "collapsed": true
   },
   "outputs": [],
   "source": [
    "'''16. Faça um programa que calcule as raízes de uma equação do segundo grau, na forma ax2 + bx + c. \n",
    "O programa deverá pedir os valores de a, b e c e fazer as consistências, informando ao usuário nas seguintes situações: \n",
    "a. Se o usuário informar o valor de A igual a zero, a equação não é do segundo grau e o programa não deve fazer\n",
    "pedir os demais valores, sendo encerrado; \n",
    "b. Se o delta calculado for negativo, a equação não possui raizes reais. Informe ao usuário e encerre o programa; \n",
    "c. Se o delta calculado for igual a zero a equação possui apenas uma raiz real; informe-a ao usuário; \n",
    "d. Se o delta for positivo, a equação possui duas raiz reais; informe-as ao usuário; '''\n",
    "\n",
    "import math\n",
    "a = 0\n",
    "delta = 0\n",
    "while (a ==0):\n",
    "    a = int(input('Informe o valor de A'))\n",
    "    b = int(input('Informe o valor de B'))\n",
    "    c = int(input('Informe o valor de C'))\n",
    "    if a == 0:\n",
    "        print('Programa inconsistente, por favor informe valor maior do que 0 para A')\n",
    "    else:\n",
    "        delta = math.pow(b, 2) - (4 * a * c)\n",
    "        \n",
    "        if delta < 0:\n",
    "            print('A equação não possui valores reais')\n",
    "            break\n",
    "        elif delta == 0:\n",
    "            raiz = -b / (2 * a)\n",
    "            print('A equação possui apenas uma raiz', raiz)\n",
    "        else:\n",
    "            raiz1 = (-b + math.sqrt(delta)) / (2 * a)\n",
    "            raiz2 = (-b - math.sqrt(delta)) / (2 * a)\n",
    "            print ('Primeira raiz',\"%0.2f\" %raiz1)\n",
    "            print ('Segunda raiz',\"%0.2f\" %raiz2)\n",
    "            \n",
    "            \n",
    "            \n",
    "            \n",
    "    \n",
    "\n",
    "    \n",
    "\n"
   ]
  },
  {
   "cell_type": "code",
   "execution_count": null,
   "metadata": {
    "collapsed": true
   },
   "outputs": [],
   "source": [
    "'''17. Faça um Programa que peça um número correspondente a um determinado ano e em seguida informe se este ano\n",
    "é ou não bissexto. '''\n",
    "\n",
    "ano = int(input('Informe um ano e o programa retornará se ele é bissexto'))\n",
    "bissexto = True\n",
    "if ano % 4 == 0:\n",
    "    bissexto = True\n",
    "    if ano % 100 == 0 and ano % 400 != 0:\n",
    "        bissexto = False\n",
    "    if (bissexto):\n",
    "        print(ano,'é bissexto')\n",
    "else:\n",
    "    print(ano, 'não é bissexto')"
   ]
  },
  {
   "cell_type": "code",
   "execution_count": null,
   "metadata": {
    "collapsed": true
   },
   "outputs": [],
   "source": [
    "'''18. Faça um Programa que peça uma data no formato dd/mm/aaaa e determine se a mesma é uma data válida.'''\n",
    "\n",
    "\n",
    "#Solicita uma data !\n",
    "data = input('Informe uma data no formato dd/mm/yyyy: ')\n",
    "\n",
    "# SEPARA OS INTEIROS DA DATA INFORMADA POR INDEX\n",
    "dia = int(data[0:2])\n",
    "mes = int(data[3:5])\n",
    "ano = int(data[6:])\n",
    "print(dia,mes,ano)\n",
    "\n",
    "#Verifica ano bissexto ou não !\n",
    "bissexto = False\n",
    "if ano % 4 == 0:\n",
    "    bissexto = True\n",
    "    if ano % 100 == 0 and ano % 400 != 0:\n",
    "        bissexto = False\n",
    "        \n",
    "    if (bissexto):\n",
    "        print('Bissexto')\n",
    "if not(bissexto):\n",
    "    print('Não é Bissexto')\n",
    "    \n",
    "#valida dias fora fevereiro\n",
    "valida = False\n",
    "if (mes in (1, 3, 5, 7, 8, 10, 12)):\n",
    "    if (dia >= 1) or (dia <= 31):\n",
    "        valida = True\n",
    "elif (mes in (4, 6, 9, 11)):\n",
    "    if (dia >= 1) or (dia <= 30):\n",
    "        valida = True        \n",
    "#Se for bissexto fevereiro conta até 29 senão conta até 28    \n",
    "    if (bissexto) and mes == 2 and (dia >=1 or dia <=29):\n",
    "        valida == True\n",
    "    if not(bissexto) and mes == 2 and (dia >=1 or dia <=28):\n",
    "        valida == True\n",
    "#Validação final        \n",
    "    if(valida):\n",
    "        print(data,'é uma data valida')\n",
    "    else:\n",
    "        print('Não é uma data valida')\n",
    "\n",
    "    \n",
    "    \n",
    "\n",
    "    \n"
   ]
  },
  {
   "cell_type": "code",
   "execution_count": 34,
   "metadata": {},
   "outputs": [
    {
     "name": "stdout",
     "output_type": "stream",
     "text": [
      "Informe um numero que o programa separará em dezenas unidades e etc6\n",
      "6 = 6 unidades\n"
     ]
    }
   ],
   "source": [
    "'''19. Faça um Programa que leia um número inteiro menor que 1000 e imprima a quantidade de centenas,\n",
    "dezenas e unidades do mesmo. Observando os termos no plural a colocação do \"e\", da vírgula entre outros. \n",
    "Exemplo: \n",
    "326 = 3 centenas, 2 dezenas e 6 unidades \n",
    "12 = 1 dezena e 2 unidades Testar com: 326, 300, 100, 320, 310,305, 301, 101, 311, 111, 25, 20, 10, 21, 11, 1, 7 e 16 '''\n",
    "\n",
    "\n",
    "num = int(input('Informe um numero que o programa separará em dezenas unidades e etc'))\n",
    "\n",
    "centenas = int(num/100)\n",
    "\n",
    "dezenas = int((num%100)/10)\n",
    "\n",
    "unidades = int((num%100)%10)\n",
    "\n",
    "if unidades ==0:\n",
    "    print(num,'=',centenas,'centenas','e',dezenas,' dezenas')\n",
    "elif unidades == 0 and dezenas == 0:\n",
    "    print(num,'=',centenas,'centenas')\n",
    "elif centenas == 0 and dezenas == 0:\n",
    "    print(num,'=',unidades,'unidades')\n",
    "elif centenas == 0:\n",
    "    print(num,'=',dezenas,'dezenas','e',unidades,'unidades')\n",
    "else:\n",
    "    print(num,'=',centenas,'centenas',dezenas,' dezenas','e',unidades,'unidades')\n",
    "        \n"
   ]
  },
  {
   "cell_type": "code",
   "execution_count": 36,
   "metadata": {},
   "outputs": [
    {
     "name": "stdout",
     "output_type": "stream",
     "text": [
      "Informe sua primeira nota7\n",
      "Informe sua primeira nota3\n",
      "Informe sua primeira nota5\n",
      "Reprovado  5\n"
     ]
    }
   ],
   "source": [
    "'''20. Faça um Programa para leitura de três notas parciais de um aluno. O programa deve calcular a \n",
    "média alcançada por aluno e presentar: \n",
    "a. A mensagem \"Aprovado\", se a média for maior ou igual a 7, com a respectiva média alcançada; \n",
    "b. A mensagem \"Reprovado\", se a média for menor do que 7, com a respectiva média alcançada; \n",
    "c. A mensagem \"Aprovado com Distinção\", se a média for igual a 10. '''\n",
    "\n",
    "\n",
    "n1 = int(input('Informe sua primeira nota'))\n",
    "n2 = int(input('Informe sua primeira nota'))\n",
    "n3 = int(input('Informe sua primeira nota'))\n",
    "\n",
    "media = int((n1+n2+n3) / 3)\n",
    "\n",
    "if media == 10:\n",
    "    print('Aprovado por Distinção')\n",
    "\n",
    "if media >= 7 and media<10:\n",
    "    print('Aprovado ', media)\n",
    "    \n",
    "if media < 7:\n",
    "    print('Reprovado ', media)\n",
    "\n",
    "\n"
   ]
  },
  {
   "cell_type": "code",
   "execution_count": null,
   "metadata": {
    "collapsed": true
   },
   "outputs": [],
   "source": [
    "'''21. Faça um Programa para um caixa eletrônico. O programa deverá perguntar ao usuário a valor do saque e depois \n",
    "informar quantas notas de cada valor serão fornecidas. As notas disponíveis serão as de 1, 5, 10, 50 e 100 reais.\n",
    "O valor mínimo é de 10 reais e o máximo de 600 reais. O programa não deve se preocupar com a quantidade de notas existentes\n",
    "na máquina. \n",
    "a. Exemplo 1: Para sacar a quantia de 256 reais, o programa fornece duas notas de 100, uma nota de 50, \n",
    "uma nota de 5 e uma nota de 1; \n",
    "b. Exemplo 2: Para sacar a quantia de 399 reais, o programa fornece três notas de 100,\n",
    "uma nota de 50, quatro notas de 10, uma nota de 5 e quatro notas de 1.''' \n",
    "\n",
    "saque = 0\n",
    "while saque <10 or saque> 600:\n",
    "    saque = int(input('Informe o valor de saque '))\n",
    "    if saque <10 or saque > 600:\n",
    "        print('Saque com valores inválidos por favor digite entre R$10 e R$600')\n",
    "    \n",
    "    notas_100 = int(saque/100)\n",
    "    notas_50 = int((saque%100)/50)\n",
    "    notas_20 = int(((saque%100)%50)/20)\n",
    "    notas_10 = int((((saque%100)%50)%20)/10)\n",
    "    notas_5 = int(((((saque%100)%50)%20)%10)/5)\n",
    "    notas_1 = int((((((saque%100)%50)%20)%10)%5)/1)\n",
    "\n",
    "print('Você solicitou um saque de ', saque, '\\n', notas_100,'notas de R$100 \\n',notas_50,'notas de R$50 \\n',\n",
    "        notas_20,'notas de R$20 \\n',notas_10,'notas de R$10 \\n',notas_5,'notas de R$5 \\n',notas_1,'notas de R$1')\n"
   ]
  },
  {
   "cell_type": "code",
   "execution_count": null,
   "metadata": {
    "collapsed": true
   },
   "outputs": [],
   "source": [
    "'''22. Faça um Programa que peça um número inteiro e determine se ele é par ou impar. Dica: utilize o operador módulo\n",
    "    (resto da divisão).''' \n",
    "num = int(input('Informe um número e será determinado se ele é par ou impar'))\n",
    "if num % 2 == 0:\n",
    "    print(num, 'é par')\n",
    "else:\n",
    "    print(num, 'é impar')"
   ]
  },
  {
   "cell_type": "code",
   "execution_count": 19,
   "metadata": {},
   "outputs": [
    {
     "name": "stdout",
     "output_type": "stream",
     "text": [
      "Informe um numero que retornará inteiro ou decimal10\n",
      "10 é inteiro\n"
     ]
    }
   ],
   "source": [
    "'''23. Faça um Programa que peça um número e informe se o número é inteiro ou decimal. Dica: utilize uma função de\n",
    "    arredondamento. '''\n",
    "numero = float(input('Informe um numero que retornará inteiro ou decimal'))\n",
    "if (numero == int(numero)):\n",
    "    print(\"%0.0f\" %numero, 'é inteiro')\n",
    "else:    \n",
    "    print (numero, 'Numero é decimal')"
   ]
  },
  {
   "cell_type": "code",
   "execution_count": 1,
   "metadata": {},
   "outputs": [
    {
     "name": "stdout",
     "output_type": "stream",
     "text": [
      "Informe um numero: 20\n",
      "Agora Informe a numeração da operação do sistema \n",
      " 1.par ou ímpar; \n",
      " 2. b. positivo ou negativo; \n",
      " 3. c. inteiro ou decimal.1\n",
      "20 é par\n"
     ]
    }
   ],
   "source": [
    "'''24. Faça um Programa que leia 2 números e em seguida pergunte ao usuário qual operação ele deseja realizar.\n",
    "O resultado da operação deve ser acompanhado de uma frase que diga se o número é: \n",
    "a. par ou ímpar; \n",
    "b. positivo ou negativo; \n",
    "c. inteiro ou decimal.''' \n",
    "\n",
    "programa = 0\n",
    "while programa == 0:\n",
    "    valor = int(input('Informe um numero: '))\n",
    "    programa = int(input('Agora Informe a numeração da operação do sistema \\n 1.par ou ímpar; \\n 2. b. positivo ou negativo; \\n 3. c. inteiro ou decimal.'))\n",
    "    if programa >=5:\n",
    "        print('Numeração invalida informe novamente um numero')\n",
    "        programa == 0\n",
    "\n",
    "\n",
    "    if programa == 1: \n",
    "        if valor % 2 == 0:\n",
    "            print(valor, 'é par')\n",
    "        else:\n",
    "            print(valor, 'é impar')\n",
    "    if programa == 2:\n",
    "        if valor < 0:\n",
    "            print(valor,' é negativo')\n",
    "        else:\n",
    "            print(valor,' é positivo')\n",
    "            \n",
    "    if programa == 3:\n",
    "        if ( valor == int(valor)):\n",
    "            print(\"%0.0f\" %valor, 'é inteiro')\n",
    "        else:    \n",
    "            print (valor, 'Numero é decimal')\n",
    "\n"
   ]
  },
  {
   "cell_type": "code",
   "execution_count": 1,
   "metadata": {},
   "outputs": [
    {
     "name": "stdout",
     "output_type": "stream",
     "text": [
      "Informe 1 para Verdadeiro e 0 para Falso nas seguintes perguntas sobre o crime\n",
      "Telefonou para a vítima? 1\n",
      "Esteve no local do crime? 1\n",
      "Mora perto da vítima? 1\n",
      "Devia para a vítima? 1\n",
      "Já trabalhou com a vítima? 1\n",
      "Você é Culpado,pois respondeu 5 questões positivas\n"
     ]
    }
   ],
   "source": [
    "'''25. Faça um programa que faça 5 perguntas para uma pessoa sobre um crime. As perguntas são: \n",
    "a. \"Telefonou para a vítima?\" \n",
    "b. \"Esteve no local do crime?\" \n",
    "c. \"Mora perto da vítima?\" \n",
    "d. \"Devia para a vítima?\" \n",
    "e. \"Já trabalhou com a vítima?\" O programa deve no final emitir uma classificação sobre a participação da pessoa no crime.\n",
    "Se a pessoa responder positivamente a 2 questões ela deve ser classificada como \"Suspeita\", entre 3 e 4 como \"Cúmplice\" e\n",
    "5 como \"Assassino\". Caso contrário, ele será classificado como \"Inocente\". '''\n",
    "\n",
    "print(\"Informe 1 para Verdadeiro e 0 para Falso nas seguintes perguntas sobre o crime\")\n",
    "\n",
    "a=2\n",
    "b=2\n",
    "c=3\n",
    "d=2\n",
    "e=3\n",
    "while a>1 or b>1 or c>1 or d>1 or e>1:\n",
    "    a = int(input(\"Telefonou para a vítima? \"))\n",
    "    b = int(input(\"Esteve no local do crime? \"))\n",
    "    c = int(input(\"Mora perto da vítima? \"))\n",
    "    d = int(input(\"Devia para a vítima? \"))\n",
    "    e = int(input(\"Já trabalhou com a vítima? \"))\n",
    "    score = a+b+c+d+e\n",
    "    if a>1 or b>1 or c>1 or d>1 or e>1:\n",
    "        score = 10\n",
    "    if score == 2 :\n",
    "        print(\"Você é suspeita,pois respondeu\",score,\"questões positivas\")\n",
    "    elif score >=3  and score <=4:\n",
    "        print(\"Você é Cúmplice,pois respondeu\",score,\"questões positivas\")\n",
    "    elif score == 5:\n",
    "        print(\"Você é Culpado,pois respondeu\",score,\"questões positivas\")\n",
    "    elif score == 1:\n",
    "        print(\"Você é inocente pois respondeu somente uma questão positiva\")\n",
    "    else:\n",
    "        print(\"Valores Invalidos digite novamente\")\n"
   ]
  },
  {
   "cell_type": "code",
   "execution_count": null,
   "metadata": {},
   "outputs": [
    {
     "name": "stdout",
     "output_type": "stream",
     "text": [
      "Informe A para alcool e G para gasolinaA\n"
     ]
    }
   ],
   "source": [
    "'''26. Um posto está vendendo combustíveis com a seguinte tabela de descontos: \n",
    "a. Álcool: \n",
    "até 20 litros, desconto de 3% por litro  e acima de 20 litros, desconto de 5% por litro \n",
    "b. Gasolina: \n",
    "até 20 litros, desconto de 4% por litro e acima de 20 litros, desconto de 6% por litro. \n",
    "\n",
    "Escreva um algoritmo que leia o número de litros vendidos, o tipo de combustível (codificado da seguinte forma: A-álcool,\n",
    "G- gasolina), calcule e imprima o valor a ser pago pelo cliente sabendo-se que o preço do litro da gasolina é R$ 2,50\n",
    "o preço do litro do álcool é R$ 1,90. '''\n",
    "\n",
    "# Declaração de variáveis\n",
    "\n",
    "litros_vendidos = 0\n",
    "tipo_combustivel = \"C\"\n",
    "litro_gasolina = 2.50\n",
    "litro_alcool = 1.90\n",
    "\n",
    "# Loop de verificação\n",
    "\n",
    "while not tipo_combustivel == \"G\" and not tipo_combustivel == \"A\":\n",
    "    tipo_combustivel = input(\"Informe A para alcool e G para gasolina\")\n",
    "    if not tipo_combustivel == \"G\"  and not tipo_combustivel == \"A\":\n",
    "        print(\"Valores invalidos informe G ou A\")\n",
    "    else:\n",
    "        if tipo_combustivel == \"A\":\n",
    "            litros_vendidos = float(input(\"Informe a quantidade de litros de alcool desejada\"))\n",
    "        if litros_vendidos<=20 and tipo_combustivel == \"A\":\n",
    "            litros_vendidosa = (litros_vendidos*litro_alcool) \n",
    "            total = ((litros_vendidosa - (litros_vendidosa*3)/100))\n",
    "            print(\"Você pagará\", total)\n",
    "        if litros_vendidos >20 and tipo_combustivel == \"A\":\n",
    "            litros_vendidosa = (litros_vendidos*litro_alcool) \n",
    "            total = ((litros_vendidosa - (litros_vendidosa*5)/100))\n",
    "            print(\"Você pagará\", total)\n",
    "            \n",
    "            #litros_gasolina\n",
    "        else:\n",
    "            if tipo_combustivel == \"G\":\n",
    "                litros_vendidos = float(input(\"Informe a quantidade de litros de gasolina desejada\"))\n",
    "            if litros_vendidos<=20 and tipo_combustivel == \"G\":\n",
    "                litros_vendidosg = (litros_vendidos*litro_gasolina) \n",
    "                total = ((litros_vendidosg - (litros_vendidosg*4)/100))\n",
    "                print(\"Você pagará\", total)\n",
    "            if litros_vendidos >20 and tipo_combustivel == \"G\":\n",
    "                litros_vendidosg = (litros_vendidos*litro_gasolina) \n",
    "                total = ((litros_vendidosg - (litros_vendidosg*5)/100))\n",
    "                print(\"Você pagará\", total)\n",
    "            else:\n",
    "                pass\n",
    "       \n",
    "        \n",
    "    \n",
    "\n",
    "\n"
   ]
  },
  {
   "cell_type": "code",
   "execution_count": null,
   "metadata": {
    "collapsed": true
   },
   "outputs": [],
   "source": [
    "27. Uma fruteira está vendendo frutas com a seguinte tabela de preços: \n",
    "    \n",
    "                      Até 5 Kg           Acima de 5 Kg\n",
    "Morango         R$ 2,50 por Kg          R$ 2,20 por Kg\n",
    "Maçã            R$ 1,80 por Kg          R$ 1,50 por Kg\n",
    "\n",
    "Se o cliente comprar mais de 8 Kg em frutas ou o valor total da compra ultrapassar R$ 25,00, \n",
    "receberá ainda um desconto de 10% sobre este total. Escreva um algoritmo para ler a quantidade (em Kg)\n",
    "de morangos e a quantidade (em Kg) de maças adquiridas e escreva o valor a ser pago pelo cliente. "
   ]
  },
  {
   "cell_type": "code",
   "execution_count": null,
   "metadata": {
    "collapsed": true
   },
   "outputs": [],
   "source": [
    "'''28. O Hipermercado Tabajara está com uma promoção de carnes que é imperdível. Confira: \n",
    "    \n",
    "                      Até 5 Kg           Acima de 5 Kg\n",
    "File Duplo      R$ 4,90 por Kg          R$ 5,80 por Kg\n",
    "Alcatra         R$ 5,90 por Kg          R$ 6,80 por Kg\n",
    "Picanha         R$ 6,90 por Kg          R$ 7,80 por Kg\n",
    "\n",
    "Para atender a todos os clientes, cada cliente poderá levar apenas um dos tipos de carne da promoção,\n",
    "porém não há limites para a quantidade de carne por cliente. Se compra for feita no cartão Tabajara\n",
    "o cliente receberá ainda um desconto de 5% sobre o total a compra. Escreva um programa que peça o tipo\n",
    "e a quantidade de carne comprada pelo usuário e gere um cupom fiscal, contendo as informações da compra: \n",
    "tipo e quantidade de carne, preço total, tipo de pagamento, valor do desconto e valor a pagar.'''\n",
    "\n",
    "\n",
    "def hip_tabajara():\n",
    "    \n"
   ]
  }
 ],
 "metadata": {
  "kernelspec": {
   "display_name": "Python 3",
   "language": "python",
   "name": "python3"
  },
  "language_info": {
   "codemirror_mode": {
    "name": "ipython",
    "version": 3
   },
   "file_extension": ".py",
   "mimetype": "text/x-python",
   "name": "python",
   "nbconvert_exporter": "python",
   "pygments_lexer": "ipython3",
   "version": "3.6.3"
  }
 },
 "nbformat": 4,
 "nbformat_minor": 2
}
